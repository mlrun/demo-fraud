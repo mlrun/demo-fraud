{
 "cells": [
  {
   "cell_type": "markdown",
   "metadata": {},
   "source": [
    "# Real-time Application Pipeline\n",
    "\n",
    "In this example, we define an application pipeline that accepts a user request, enriches the request with real-time features from the feature store, and feeds the features into a three-legged ensemble that uses the newly trained models.\n",
    "\n",
    "You would typically need to implement and deploy multiple microservices and com‐ plex logic to build such an application pipeline. But, with MLRun, you can define it in a few lines of code and deploy it automatically into elastic serverless functions. In addition, the MLRun serving framework will automatically support real-time feature imputing, model monitoring, and so on without requiring extra coding."
   ]
  },
  {
   "cell_type": "code",
   "execution_count": 1,
   "metadata": {},
   "outputs": [],
   "source": [
    "import mlrun\n",
    "project = mlrun.load_project(\n",
    "    name=\"fraud-demo\",\n",
    "    context=\"./\",\n",
    "    user_project=True,\n",
    "    )"
   ]
  },
  {
   "cell_type": "markdown",
   "metadata": {},
   "source": [
    "## Defining a custom serving class\n",
    "\n",
    "MLRun has many built-in model-serving classes for different frameworks (Sklearn, Xgboost, PyTorch, TensorFlow, ONNX, Hugging Face models, and so on). You can also build your custom model serving class as demonstrated in Example 7-24. The serving class must support the load() method for loading the model and the predict() method for making a prediction. You can read MLRun documentation to see all the hooks and advanced usage."
   ]
  },
  {
   "cell_type": "code",
   "execution_count": 2,
   "metadata": {},
   "outputs": [],
   "source": [
    "# mlrun: start-code"
   ]
  },
  {
   "cell_type": "code",
   "execution_count": 3,
   "metadata": {},
   "outputs": [],
   "source": [
    "import numpy as np\n",
    "from cloudpickle import load\n",
    "from mlrun.serving.v2_serving import V2ModelServer\n",
    "\n",
    "class ClassifierModel(V2ModelServer):\n",
    "    \n",
    "    def load(self):\n",
    "        \"\"\"load and initialize the model and/or other elements\"\"\"\n",
    "        model_file, extra_data = self.get_model('.pkl')\n",
    "        self.model = load(open(model_file, 'rb'))\n",
    "        \n",
    "    def predict(self, body: dict) -> list:\n",
    "        \"\"\"Generate model predictions from sample\"\"\"\n",
    "        print(f\"Input -> {body['inputs']}\")\n",
    "        feats = np.asarray(body['inputs'])\n",
    "        result: np.ndarray = self.model.predict(feats)\n",
    "        return result.tolist()"
   ]
  },
  {
   "cell_type": "code",
   "execution_count": 4,
   "metadata": {},
   "outputs": [],
   "source": [
    "# mlrun: end-code"
   ]
  },
  {
   "cell_type": "markdown",
   "metadata": {},
   "source": [
    "## Building an Application Pipeline with Enrichment and Ensemble\n",
    "\n",
    "MLRun serving can produce managed real-time serverless pipelines from various tasks, including MLRun models or standard model files. The pipelines use the Nuclio real-time serverless engine, which can be deployed anywhere. Nuclio is a high-performance open-source serverless framework focused on data, I/O, and compute-intensive workloads.\n",
    "\n",
    "The EnrichmentVotingEnsemble router class auto-enriches the request with data from the feature store. The router input accepts a list of inference requests (each request can be a dict or list of incoming features/keys). It enriches the request with data from the specified feature vector (feature_vector_uri), forwards the vector to one or more models in an ensemble, and returns an aggregated prediction value (for example, the average result across the three models).\n",
    "The features can often have null values (None, NaN, Inf). The Enrichment_ routers can substitute the null value with fixed or statistical value per fea ture. This is done through the `impute_policy` parameter, which accepts the impute policy per feature (where * is used to specify the default). The value can be a fixed number for constants or $mean, $max, $min, $std, $count for statistical values to substitute the value with the equivalent feature stats (taken from the feature store).\n",
    "The code in Example 7-24 defines a new serving function with the ClassifierModel class code (in serving.py) and a router topology (using the EnrichmentVotingEnsem ble router class) with three child models."
   ]
  },
  {
   "cell_type": "code",
   "execution_count": 5,
   "metadata": {},
   "outputs": [
    {
     "data": {
      "text/plain": [
       "[('transaction_fraud_xgboost',\n",
       "  {'iter': 2,\n",
       "   'tag': 'latest',\n",
       "   'labels': {'workflow-id': '3711f82e5fc54517a0ced56e1eb3b965',\n",
       "    'framework': 'sklearn'},\n",
       "   'tree': '3711f82e5fc54517a0ced56e1eb3b965',\n",
       "   'uid': 'a3a61f9ade2fde3bc21d7f4e5df994c97c8cfd65',\n",
       "   'updated': '2025-01-28 19:20:09.040778+00:00',\n",
       "   'key': 'model',\n",
       "   'hash': '0d5c54e2f5b0b046fcfb0a1b9fbcee72297c3b20',\n",
       "   'project': 'fraud-demo-jovyan'}),\n",
       " ('transaction_fraud_adaboost',\n",
       "  {'iter': 3,\n",
       "   'tag': 'latest',\n",
       "   'labels': {'workflow-id': '3711f82e5fc54517a0ced56e1eb3b965',\n",
       "    'framework': 'sklearn'},\n",
       "   'tree': '3711f82e5fc54517a0ced56e1eb3b965',\n",
       "   'uid': 'becbf22a706dd6e38276834326d058d7b38e8371',\n",
       "   'updated': '2025-01-28 19:20:07.459189+00:00',\n",
       "   'key': 'model',\n",
       "   'hash': '4eb1464f9c67926bc264350d1ebf66e8c64dfa83',\n",
       "   'project': 'fraud-demo-jovyan'}),\n",
       " ('transaction_fraud_rf',\n",
       "  {'iter': 1,\n",
       "   'tag': 'latest',\n",
       "   'labels': {'workflow-id': '3711f82e5fc54517a0ced56e1eb3b965',\n",
       "    'framework': 'sklearn'},\n",
       "   'tree': '3711f82e5fc54517a0ced56e1eb3b965',\n",
       "   'uid': '7115d0f7c9a0e032af3e43d27678ef0f6a7f9477',\n",
       "   'updated': '2025-01-28 19:20:04.666869+00:00',\n",
       "   'key': 'model',\n",
       "   'hash': 'ca11d4f72b7dcba7941338114135cf4fe234cf4e',\n",
       "   'project': 'fraud-demo-jovyan'})]"
      ]
     },
     "execution_count": 5,
     "metadata": {},
     "output_type": "execute_result"
    }
   ],
   "source": [
    "[(m.spec.db_key, m.metadata.to_dict()) for m in project.list_models('', tag='latest')]"
   ]
  },
  {
   "cell_type": "code",
   "execution_count": 6,
   "metadata": {},
   "outputs": [
    {
     "name": "stdout",
     "output_type": "stream",
     "text": [
      "store://models/fraud-demo-jovyan/transaction_fraud_xgboost#2:latest@3711f82e5fc54517a0ced56e1eb3b965^a3a61f9ade2fde3bc21d7f4e5df994c97c8cfd65\n",
      "store://models/fraud-demo-jovyan/transaction_fraud_adaboost#3:latest@3711f82e5fc54517a0ced56e1eb3b965^becbf22a706dd6e38276834326d058d7b38e8371\n",
      "store://models/fraud-demo-jovyan/transaction_fraud_rf#1:latest@3711f82e5fc54517a0ced56e1eb3b965^7115d0f7c9a0e032af3e43d27678ef0f6a7f9477\n"
     ]
    },
    {
     "data": {
      "image/svg+xml": [
       "<?xml version=\"1.0\" encoding=\"UTF-8\" standalone=\"no\"?>\n",
       "<!DOCTYPE svg PUBLIC \"-//W3C//DTD SVG 1.1//EN\"\n",
       " \"http://www.w3.org/Graphics/SVG/1.1/DTD/svg11.dtd\">\n",
       "<!-- Generated by graphviz version 2.43.0 (0)\n",
       " -->\n",
       "<!-- Title: mlrun&#45;flow Pages: 1 -->\n",
       "<svg width=\"634pt\" height=\"196pt\"\n",
       " viewBox=\"0.00 0.00 634.18 196.00\" xmlns=\"http://www.w3.org/2000/svg\" xmlns:xlink=\"http://www.w3.org/1999/xlink\">\n",
       "<g id=\"graph0\" class=\"graph\" transform=\"scale(1 1) rotate(0) translate(4 192)\">\n",
       "<title>mlrun&#45;flow</title>\n",
       "<polygon fill=\"white\" stroke=\"transparent\" points=\"-4,4 -4,-192 630.18,-192 630.18,4 -4,4\"/>\n",
       "<!-- _start -->\n",
       "<g id=\"node1\" class=\"node\">\n",
       "<title>_start</title>\n",
       "<polygon fill=\"lightgrey\" stroke=\"black\" points=\"338.32,-152.05 340.1,-152.15 341.86,-152.3 343.59,-152.49 345.29,-152.74 346.95,-153.03 348.56,-153.36 350.13,-153.75 351.63,-154.18 353.07,-154.65 354.44,-155.16 355.74,-155.71 356.96,-156.31 358.1,-156.94 359.15,-157.61 360.11,-158.31 360.99,-159.04 361.77,-159.8 362.46,-160.59 363.05,-161.41 363.55,-162.25 363.95,-163.11 364.26,-163.99 364.47,-164.89 364.6,-165.8 364.63,-166.72 364.57,-167.65 364.43,-168.59 364.21,-169.53 363.91,-170.47 363.53,-171.41 363.08,-172.35 362.56,-173.28 361.97,-174.2 361.33,-175.11 360.62,-176.01 359.86,-176.89 359.06,-177.75 358.2,-178.59 357.31,-179.41 356.37,-180.2 355.4,-180.96 354.41,-181.69 353.38,-182.39 352.33,-183.06 351.25,-183.69 350.16,-184.29 349.05,-184.84 347.92,-185.35 346.78,-185.82 345.63,-186.25 344.48,-186.64 343.31,-186.97 342.14,-187.26 340.97,-187.51 339.79,-187.7 338.6,-187.85 337.42,-187.95 336.23,-188 335.05,-188 333.86,-187.95 332.68,-187.85 331.5,-187.7 330.32,-187.51 329.14,-187.26 327.97,-186.97 326.8,-186.64 325.65,-186.25 324.5,-185.82 323.36,-185.35 322.24,-184.84 321.12,-184.29 320.03,-183.69 318.96,-183.06 317.9,-182.39 316.88,-181.69 315.88,-180.96 314.91,-180.2 313.97,-179.41 313.08,-178.59 312.23,-177.75 311.42,-176.89 310.66,-176.01 309.96,-175.11 309.31,-174.2 308.72,-173.28 308.2,-172.35 307.75,-171.41 307.37,-170.47 307.07,-169.53 306.85,-168.59 306.71,-167.65 306.65,-166.72 306.68,-165.8 306.81,-164.89 307.02,-163.99 307.33,-163.11 307.74,-162.25 308.23,-161.41 308.83,-160.59 309.51,-159.8 310.3,-159.04 311.17,-158.31 312.13,-157.61 313.19,-156.94 314.32,-156.31 315.54,-155.71 316.84,-155.16 318.21,-154.65 319.65,-154.18 321.16,-153.75 322.72,-153.36 324.33,-153.03 325.99,-152.74 327.69,-152.49 329.42,-152.3 331.18,-152.15 332.96,-152.05 334.75,-152 336.54,-152 338.32,-152.05\"/>\n",
       "<text text-anchor=\"middle\" x=\"335.64\" y=\"-166.3\" font-family=\"Times,serif\" font-size=\"14.00\">start</text>\n",
       "</g>\n",
       "<!-- VotingEnsemble -->\n",
       "<g id=\"node2\" class=\"node\">\n",
       "<title>VotingEnsemble</title>\n",
       "<polygon fill=\"none\" stroke=\"black\" points=\"410.7,-86.54 410.7,-101.46 366.73,-112 304.55,-112 260.58,-101.46 260.58,-86.54 304.55,-76 366.73,-76 410.7,-86.54\"/>\n",
       "<polygon fill=\"none\" stroke=\"black\" points=\"414.69,-83.39 414.69,-104.61 367.2,-116 304.08,-116 256.59,-104.61 256.59,-83.39 304.08,-72 367.2,-72 414.69,-83.39\"/>\n",
       "<text text-anchor=\"middle\" x=\"335.64\" y=\"-90.3\" font-family=\"Times,serif\" font-size=\"14.00\">VotingEnsemble</text>\n",
       "</g>\n",
       "<!-- _start&#45;&gt;VotingEnsemble -->\n",
       "<g id=\"edge1\" class=\"edge\">\n",
       "<title>_start&#45;&gt;VotingEnsemble</title>\n",
       "<path fill=\"none\" stroke=\"black\" d=\"M335.64,-151.84C335.64,-144.16 335.64,-134.88 335.64,-126.05\"/>\n",
       "<polygon fill=\"black\" stroke=\"black\" points=\"339.14,-126.03 335.64,-116.03 332.14,-126.03 339.14,-126.03\"/>\n",
       "</g>\n",
       "<!-- VotingEnsemble/transaction_fraud_xgboost -->\n",
       "<g id=\"node3\" class=\"node\">\n",
       "<title>VotingEnsemble/transaction_fraud_xgboost</title>\n",
       "<ellipse fill=\"none\" stroke=\"black\" cx=\"104.64\" cy=\"-18\" rx=\"104.78\" ry=\"18\"/>\n",
       "<text text-anchor=\"middle\" x=\"104.64\" y=\"-14.3\" font-family=\"Times,serif\" font-size=\"14.00\">transaction_fraud_xgboost</text>\n",
       "</g>\n",
       "<!-- VotingEnsemble&#45;&gt;VotingEnsemble/transaction_fraud_xgboost -->\n",
       "<g id=\"edge2\" class=\"edge\">\n",
       "<title>VotingEnsemble&#45;&gt;VotingEnsemble/transaction_fraud_xgboost</title>\n",
       "<path fill=\"none\" stroke=\"black\" d=\"M284.37,-76.58C248.01,-64.93 199.2,-49.29 161.62,-37.25\"/>\n",
       "<polygon fill=\"black\" stroke=\"black\" points=\"162.42,-33.83 151.83,-34.12 160.29,-40.5 162.42,-33.83\"/>\n",
       "</g>\n",
       "<!-- VotingEnsemble/transaction_fraud_adaboost -->\n",
       "<g id=\"node4\" class=\"node\">\n",
       "<title>VotingEnsemble/transaction_fraud_adaboost</title>\n",
       "<ellipse fill=\"none\" stroke=\"black\" cx=\"335.64\" cy=\"-18\" rx=\"107.78\" ry=\"18\"/>\n",
       "<text text-anchor=\"middle\" x=\"335.64\" y=\"-14.3\" font-family=\"Times,serif\" font-size=\"14.00\">transaction_fraud_adaboost</text>\n",
       "</g>\n",
       "<!-- VotingEnsemble&#45;&gt;VotingEnsemble/transaction_fraud_adaboost -->\n",
       "<g id=\"edge3\" class=\"edge\">\n",
       "<title>VotingEnsemble&#45;&gt;VotingEnsemble/transaction_fraud_adaboost</title>\n",
       "<path fill=\"none\" stroke=\"black\" d=\"M335.64,-71.99C335.64,-64.06 335.64,-54.91 335.64,-46.48\"/>\n",
       "<polygon fill=\"black\" stroke=\"black\" points=\"339.14,-46.31 335.64,-36.31 332.14,-46.31 339.14,-46.31\"/>\n",
       "</g>\n",
       "<!-- VotingEnsemble/transaction_fraud_rf -->\n",
       "<g id=\"node5\" class=\"node\">\n",
       "<title>VotingEnsemble/transaction_fraud_rf</title>\n",
       "<ellipse fill=\"none\" stroke=\"black\" cx=\"543.64\" cy=\"-18\" rx=\"82.59\" ry=\"18\"/>\n",
       "<text text-anchor=\"middle\" x=\"543.64\" y=\"-14.3\" font-family=\"Times,serif\" font-size=\"14.00\">transaction_fraud_rf</text>\n",
       "</g>\n",
       "<!-- VotingEnsemble&#45;&gt;VotingEnsemble/transaction_fraud_rf -->\n",
       "<g id=\"edge4\" class=\"edge\">\n",
       "<title>VotingEnsemble&#45;&gt;VotingEnsemble/transaction_fraud_rf</title>\n",
       "<path fill=\"none\" stroke=\"black\" d=\"M383.62,-75.93C416.27,-64.31 459.42,-48.96 492.68,-37.13\"/>\n",
       "<polygon fill=\"black\" stroke=\"black\" points=\"493.98,-40.38 502.23,-33.73 491.63,-33.79 493.98,-40.38\"/>\n",
       "</g>\n",
       "</g>\n",
       "</svg>\n"
      ],
      "text/plain": [
       "<graphviz.graphs.Digraph at 0x71d0e12a9610>"
      ]
     },
     "execution_count": 6,
     "metadata": {},
     "output_type": "execute_result"
    }
   ],
   "source": [
    "# Create the serving function from your code above\n",
    "serving_fn = project.set_function('src/serving.py', name='test-function',\n",
    "                                  image=\"mlrun/mlrun\", kind=\"serving\")\n",
    "serving_fn.set_topology(\n",
    "    \"router\",\n",
    "    mlrun.serving.routers.EnrichmentVotingEnsemble(\n",
    "        feature_vector_uri=\"short\",\n",
    "        impute_policy={\"*\": \"$mean\"}),\n",
    ")\n",
    "# add the 3 trained models to the Ensemble\n",
    "for model in project.list_models('', tag='latest'):\n",
    "    name = model.spec.db_key\n",
    "    print(model.uri)\n",
    "    serving_fn.add_model(name, class_name=\"ClassifierModel\", model_path=model.uri)\n",
    "# Plot the ensemble configuration\n",
    "serving_fn.spec.graph.plot()"
   ]
  },
  {
   "cell_type": "markdown",
   "metadata": {},
   "source": [
    "## Test the Application Pipeline Locally\n",
    "\n",
    "Before deploying the serving function, you can test it in the current notebook and check the model output."
   ]
  },
  {
   "cell_type": "code",
   "execution_count": 7,
   "metadata": {},
   "outputs": [
    {
     "name": "stdout",
     "output_type": "stream",
     "text": [
      "> 2025-01-28 19:28:05,071 [info] model transaction_fraud_xgboost was loaded\n",
      "> 2025-01-28 19:28:05,121 [info] model transaction_fraud_adaboost was loaded\n",
      "> 2025-01-28 19:28:05,138 [info] model transaction_fraud_rf was loaded\n"
     ]
    }
   ],
   "source": [
    "# Create a mock server from the serving function\n",
    "local_server = serving_fn.to_mock_server()"
   ]
  },
  {
   "cell_type": "code",
   "execution_count": 8,
   "metadata": {},
   "outputs": [
    {
     "name": "stdout",
     "output_type": "stream",
     "text": [
      "Input -> [[60.98, 73.78999999999999, 2.0, 36.894999999999996, 134.16, 967.0900000000001, 30.0, 32.23633333333334, 143.87, 1835.7000000000003, 58.0, 31.650000000000006, 90.0, 1.0, 2.0, 4.0, 0.0, 0.0, 1.0, 1.0, 2.0, 1.0]]\n",
      "Input -> [[60.98, 73.78999999999999, 2.0, 36.894999999999996, 134.16, 967.0900000000001, 30.0, 32.23633333333334, 143.87, 1835.7000000000003, 58.0, 31.650000000000006, 90.0, 1.0, 2.0, 4.0, 0.0, 0.0, 1.0, 1.0, 2.0, 1.0]]\n",
      "Input -> [[60.98, 73.78999999999999, 2.0, 36.894999999999996, 134.16, 967.0900000000001, 30.0, 32.23633333333334, 143.87, 1835.7000000000003, 58.0, 31.650000000000006, 90.0, 1.0, 2.0, 4.0, 0.0, 0.0, 1.0, 1.0, 2.0, 1.0]]\n"
     ]
    },
    {
     "name": "stderr",
     "output_type": "stream",
     "text": [
      "X does not have valid feature names, but LogisticRegression was fitted with feature names\n",
      "X does not have valid feature names, but AdaBoostClassifier was fitted with feature names\n",
      "X does not have valid feature names, but RandomForestClassifier was fitted with feature names\n"
     ]
    },
    {
     "data": {
      "text/plain": [
       "{'id': '52f2c72c7c2642e2a9ca48cd7997500a',\n",
       " 'model_name': 'VotingEnsemble',\n",
       " 'outputs': [0],\n",
       " 'model_version': 'v1'}"
      ]
     },
     "execution_count": 8,
     "metadata": {},
     "output_type": "execute_result"
    }
   ],
   "source": [
    "# Choose an id for your test\n",
    "sample_id = 'C1000148617'\n",
    "\n",
    "# Send your sample ID for prediction\n",
    "local_server.test(path='/v2/models/infer',\n",
    "            body={'inputs': [[sample_id]]})\n",
    "\n",
    "# notice the input vector is printed 3 times (once per child model) and is enriched with data from the feature store"
   ]
  },
  {
   "cell_type": "markdown",
   "metadata": {
    "tags": []
   },
   "source": [
    "### Accessing the real-time feature vector directly\n",
    "\n",
    "If you would like to access the real-time features directly from your application instead of using the EnrichmentVotingEnsemble, you can call the feature store `get_online_feature_service()` method. This method is used internally in the EnrichmentVotingEnsemble router class."
   ]
  },
  {
   "cell_type": "code",
   "execution_count": 9,
   "metadata": {},
   "outputs": [
    {
     "data": {
      "text/plain": [
       "[{'amount_max_2h': 60.98,\n",
       "  'amount_max_12h': 134.16,\n",
       "  'amount_max_24h': 143.87,\n",
       "  'amount_count_2h': 2.0,\n",
       "  'amount_count_12h': 30.0,\n",
       "  'amount_count_24h': 58.0,\n",
       "  'amount_sum_2h': 73.78999999999999,\n",
       "  'amount_sum_12h': 967.0900000000001,\n",
       "  'amount_sum_24h': 1835.7000000000003,\n",
       "  'es_transportation_sum_14d': 90.0,\n",
       "  'es_health_sum_14d': 1.0,\n",
       "  'es_otherservices_sum_14d': 2.0,\n",
       "  'es_food_sum_14d': 4.0,\n",
       "  'es_hotelservices_sum_14d': 0.0,\n",
       "  'es_barsandrestaurants_sum_14d': 0.0,\n",
       "  'es_tech_sum_14d': 1.0,\n",
       "  'es_sportsandtoys_sum_14d': 1.0,\n",
       "  'es_wellnessandbeauty_sum_14d': 2.0,\n",
       "  'es_hyper_sum_14d': 1.0,\n",
       "  'amount_avg_2h': 36.894999999999996,\n",
       "  'amount_avg_12h': 32.23633333333334,\n",
       "  'amount_avg_24h': 31.650000000000006}]"
      ]
     },
     "execution_count": 9,
     "metadata": {},
     "output_type": "execute_result"
    }
   ],
   "source": [
    "import mlrun.feature_store as fs\n",
    "\n",
    "# Create the online feature service\n",
    "svc = fs.get_feature_vector('short:latest').get_online_feature_service(impute_policy={\"*\": \"$mean\"})\n",
    "\n",
    "# Get sample feature vector\n",
    "sample_fv = svc.get([{'source': sample_id}])\n",
    "sample_fv"
   ]
  },
  {
   "cell_type": "markdown",
   "metadata": {},
   "source": [
    "## Deploying the function on the Kubernetes cluster\n",
    "\n",
    "You can now deploy the function. Once deployed, you get a function with http trigger that can be called from other locations."
   ]
  },
  {
   "cell_type": "code",
   "execution_count": 10,
   "metadata": {},
   "outputs": [
    {
     "name": "stdout",
     "output_type": "stream",
     "text": [
      "redis://10.43.31.185:6379\n"
     ]
    }
   ],
   "source": [
    "# On community edition, set Redis credentials.\n",
    "\n",
    "import os\n",
    "\n",
    "redis_host = os.getenv(\"REDIS_MASTER_SERVICE_HOST\", None)\n",
    "redis_port = int(os.getenv(\"REDIS_REPLICAS_SERVICE_PORT\", None))\n",
    "\n",
    "assert redis_host and redis_port, \"Redis Host and Port must be provided \"\n",
    "\n",
    "redis_uri = f\"redis://{redis_host}:{redis_port}\" \n",
    "print(redis_uri)\n",
    "if mlrun.mlconf.is_ce_mode():\n",
    "    serving_fn.set_envs({'REDIS_URI': redis_uri})"
   ]
  },
  {
   "cell_type": "code",
   "execution_count": 11,
   "metadata": {},
   "outputs": [
    {
     "name": "stdout",
     "output_type": "stream",
     "text": [
      "> 2025-01-28 19:28:14,895 [warning] It is recommended to use k8s secret (specify secret_name), specifying aws_access_key/aws_secret_key directly is unsafe.\n",
      "> 2025-01-28 19:28:14,898 [info] Starting remote function deploy\n",
      "2025-01-28 19:28:15  (info) Deploying function\n",
      "2025-01-28 19:28:15  (info) Building\n",
      "2025-01-28 19:28:15  (info) Staging files and preparing base images\n",
      "2025-01-28 19:28:15  (warn) Using user provided base image, runtime interpreter version is provided by the base image\n",
      "2025-01-28 19:28:15  (info) Building processor image\n",
      "2025-01-28 19:31:50  (info) Build complete\n",
      "2025-01-28 19:32:04  (info) Function deploy complete\n",
      "> 2025-01-28 19:32:07,101 [info] Model endpoint creation task completed with state succeeded\n",
      "> 2025-01-28 19:32:07,102 [info] Successfully deployed function: {\"external_invocation_urls\":[\"localhost:30680\"],\"internal_invocation_urls\":[\"nuclio-fraud-demo-jovyan-test-function.mlrun.svc.cluster.local:8080\"]}\n"
     ]
    },
    {
     "data": {
      "text/plain": [
       "'http://localhost:30680'"
      ]
     },
     "execution_count": 11,
     "metadata": {},
     "output_type": "execute_result"
    }
   ],
   "source": [
    "# Enable model monitoring\n",
    "# serving_fn.set_tracking()\n",
    "\n",
    "# Deploy the serving function\n",
    "serving_fn.deploy()"
   ]
  },
  {
   "cell_type": "markdown",
   "metadata": {},
   "source": [
    "## Test the server\n",
    "\n",
    "You can test the serving function and examine the model output."
   ]
  },
  {
   "cell_type": "code",
   "execution_count": 13,
   "metadata": {},
   "outputs": [
    {
     "name": "stdout",
     "output_type": "stream",
     "text": [
      "> 2025-01-28 19:32:41,187 [info] Invoking function: {\"method\":\"POST\",\"path\":\"http://nuclio-fraud-demo-jovyan-test-function.mlrun.svc.cluster.local:8080/v2/models/infer\"}\n"
     ]
    },
    {
     "data": {
      "text/plain": [
       "{'id': 'efeb1f99-2cef-49bb-a960-a8f13ac9695e',\n",
       " 'model_name': 'VotingEnsemble',\n",
       " 'outputs': [0],\n",
       " 'model_version': 'v1'}"
      ]
     },
     "execution_count": 13,
     "metadata": {},
     "output_type": "execute_result"
    }
   ],
   "source": [
    "# Choose an id for your test\n",
    "sample_id = 'C1000148617'\n",
    "\n",
    "model_inference_path = '/v2/models/infer'\n",
    "\n",
    "# Send your sample ID for prediction\n",
    "serving_fn.invoke(path='/v2/models/infer',\n",
    "                  body={'inputs': [[sample_id]]})"
   ]
  },
  {
   "cell_type": "markdown",
   "metadata": {},
   "source": [
    "You can also directly query the feature store values, which are used in the enrichment."
   ]
  },
  {
   "cell_type": "markdown",
   "metadata": {},
   "source": [
    "### Simulate incoming data"
   ]
  },
  {
   "cell_type": "code",
   "execution_count": 14,
   "metadata": {},
   "outputs": [],
   "source": [
    "# Load the dataset\n",
    "data = mlrun.get_dataitem(mlrun.get_sample_path(\"data/fraud-demo-mlrun-fs-docs/data.csv\")).as_df()\n",
    "\n",
    "# use only first 10k\n",
    "data = data.sort_values(by='source', axis=0)[:10000]\n",
    "\n",
    "# keys\n",
    "sample_ids = data['source'].to_list()"
   ]
  },
  {
   "cell_type": "code",
   "execution_count": 15,
   "metadata": {},
   "outputs": [
    {
     "name": "stdout",
     "output_type": "stream",
     "text": [
      "> 2025-01-28 19:33:43,110 [info] Invoking function: {\"method\":\"POST\",\"path\":\"http://nuclio-fraud-demo-jovyan-test-function.mlrun.svc.cluster.local:8080/v2/models/infer\"}\n",
      "{'id': 'd798a060-769d-428c-80d7-7cd07b58cba9', 'model_name': 'VotingEnsemble', 'outputs': [0], 'model_version': 'v1'}\n",
      "> 2025-01-28 19:33:44,715 [info] Invoking function: {\"method\":\"POST\",\"path\":\"http://nuclio-fraud-demo-jovyan-test-function.mlrun.svc.cluster.local:8080/v2/models/infer\"}\n",
      "{'id': 'c01da731-c349-40f1-91cf-cae9c7bfe9da', 'model_name': 'VotingEnsemble', 'outputs': [0], 'model_version': 'v1'}\n",
      "> 2025-01-28 19:33:45,705 [info] Invoking function: {\"method\":\"POST\",\"path\":\"http://nuclio-fraud-demo-jovyan-test-function.mlrun.svc.cluster.local:8080/v2/models/infer\"}\n",
      "{'id': '7e70ef66-1d4a-4190-aeeb-f7979790397c', 'model_name': 'VotingEnsemble', 'outputs': [0], 'model_version': 'v1'}\n",
      "> 2025-01-28 19:33:46,695 [info] Invoking function: {\"method\":\"POST\",\"path\":\"http://nuclio-fraud-demo-jovyan-test-function.mlrun.svc.cluster.local:8080/v2/models/infer\"}\n",
      "{'id': '817cb11e-16c4-4e80-86db-91f162f77317', 'model_name': 'VotingEnsemble', 'outputs': [0], 'model_version': 'v1'}\n",
      "> 2025-01-28 19:33:47,292 [info] Invoking function: {\"method\":\"POST\",\"path\":\"http://nuclio-fraud-demo-jovyan-test-function.mlrun.svc.cluster.local:8080/v2/models/infer\"}\n",
      "{'id': '707e31d5-cf80-4888-99a8-60116495e0a8', 'model_name': 'VotingEnsemble', 'outputs': [0], 'model_version': 'v1'}\n",
      "> 2025-01-28 19:33:48,484 [info] Invoking function: {\"method\":\"POST\",\"path\":\"http://nuclio-fraud-demo-jovyan-test-function.mlrun.svc.cluster.local:8080/v2/models/infer\"}\n",
      "{'id': 'f4a9c472-39c4-4ea9-bfa4-f1b6dc091ee6', 'model_name': 'VotingEnsemble', 'outputs': [0], 'model_version': 'v1'}\n",
      "> 2025-01-28 19:33:50,129 [info] Invoking function: {\"method\":\"POST\",\"path\":\"http://nuclio-fraud-demo-jovyan-test-function.mlrun.svc.cluster.local:8080/v2/models/infer\"}\n",
      "{'id': 'f1c6326e-e9aa-41c3-b797-709ab54ce158', 'model_name': 'VotingEnsemble', 'outputs': [0], 'model_version': 'v1'}\n",
      "> 2025-01-28 19:33:51,523 [info] Invoking function: {\"method\":\"POST\",\"path\":\"http://nuclio-fraud-demo-jovyan-test-function.mlrun.svc.cluster.local:8080/v2/models/infer\"}\n",
      "{'id': 'c42e386b-f840-4ce0-ab39-b530dd0fbc2e', 'model_name': 'VotingEnsemble', 'outputs': [0], 'model_version': 'v1'}\n",
      "> 2025-01-28 19:33:52,931 [info] Invoking function: {\"method\":\"POST\",\"path\":\"http://nuclio-fraud-demo-jovyan-test-function.mlrun.svc.cluster.local:8080/v2/models/infer\"}\n",
      "{'id': '28286c37-eba6-4fac-8ab6-c2c7ea637822', 'model_name': 'VotingEnsemble', 'outputs': [0], 'model_version': 'v1'}\n",
      "> 2025-01-28 19:33:53,518 [info] Invoking function: {\"method\":\"POST\",\"path\":\"http://nuclio-fraud-demo-jovyan-test-function.mlrun.svc.cluster.local:8080/v2/models/infer\"}\n",
      "{'id': 'c30a8ccb-ae90-4151-8dc8-a58c2f86cc64', 'model_name': 'VotingEnsemble', 'outputs': [0], 'model_version': 'v1'}\n"
     ]
    }
   ],
   "source": [
    "from random import choice, uniform\n",
    "from time import sleep\n",
    "\n",
    "# Sending random requests\n",
    "for _ in range(10):\n",
    "    data_point = choice(sample_ids)\n",
    "    try:\n",
    "        resp = serving_fn.invoke(path=model_inference_path, body={'inputs': [[data_point]]})\n",
    "        print(resp)\n",
    "        sleep(uniform(0.2, 1.7))\n",
    "    except OSError:\n",
    "        pass"
   ]
  },
  {
   "cell_type": "markdown",
   "metadata": {
    "pycharm": {
     "name": "#%% md\n"
    }
   },
   "source": [
    "## Done!\n",
    "\n",
    "You've completed the fraud-detection demo. \n"
   ]
  }
 ],
 "metadata": {
  "kernelspec": {
   "display_name": "Python 3 (ipykernel)",
   "language": "python",
   "name": "python3"
  },
  "language_info": {
   "codemirror_mode": {
    "name": "ipython",
    "version": 3
   },
   "file_extension": ".py",
   "mimetype": "text/x-python",
   "name": "python",
   "nbconvert_exporter": "python",
   "pygments_lexer": "ipython3",
   "version": "3.9.13"
  }
 },
 "nbformat": 4,
 "nbformat_minor": 4
}
