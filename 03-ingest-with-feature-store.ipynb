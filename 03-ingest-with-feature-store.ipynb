{
 "cells": [
  {
   "cell_type": "markdown",
   "metadata": {},
   "source": [
    "# Data Ingestion and Preparation Using a Feature Store\n"
   ]
  },
  {
   "cell_type": "markdown",
   "metadata": {},
   "source": [
    "In the previous section, you created ML features manually on a small scale (using a notebook with Pandas). However, when deploying ML to production, the process of ingesting, transforming, storing, versioning, and serving data should be automated and run at scale. Organizations use dedicated data and ML engineering teams to productize and scale the data pipelines, which requires more time and resources and can lead to errors and inconsistencies. Furthermore, when the application works with real-time transactional data, the data processing is based on streaming technologies, forcing even more complex and duplicate implementations.\n",
    "\n",
    "Feature stores enable reuse and collaboration, where the same features can be engineered once and used in different applications. In addition, features can be updated and refreshed constantly, resulting in more accurate and up-to-date models and a simplified model retraining process.\n",
    "\n",
    "Some feature stores (like MLRun and Tecton) automate the development and deployment of the feature generation (transformation) data pipelines. This section will show you how to use MLRun to easily build feature engineering pipelines and deploy them as batch or real-time scenarios.\n",
    "\n",
    "Feature stores define groups of features (feature sets) that are ingested and transformed together from the same online or offline source. In the example, you will define three feature sets (credit transactions, user activities, and labels), each with its source, transformations, and target store definitions. Feature set definitions can be saved and later deployed in an application context, reading from offline (for example, object storage or a database) or online (for example, a Kafka stream or an HTTP endpoint) sources.\n",
    "\n",
    "After the features are stored and versioned in the feature store, they can be combined into feature vectors that the model training, serving, or monitoring applications will use.\n",
    "\n",
    "In MLRun, all the assets and resources (functions, workflows, data, features, models, and so on) are grouped into projects. Projects can be deployed as a whole, have access control and policies, and are usually mapped to a GIT repository for simple deployment and versioning. The first step in the notebook is to create a new project or load an existing project from the version control or database"
   ]
  },
  {
   "cell_type": "code",
   "execution_count": 1,
   "metadata": {},
   "outputs": [],
   "source": [
    "import mlrun\n",
    "import os \n",
    "\n",
    "project = mlrun.load_project(\n",
    "    name=\"fraud-demo\",\n",
    "    context=\"./\",\n",
    "    user_project=True,\n",
    "    )"
   ]
  },
  {
   "cell_type": "markdown",
   "metadata": {},
   "source": [
    "### If redis requires password"
   ]
  },
  {
   "cell_type": "code",
   "execution_count": 2,
   "metadata": {},
   "outputs": [],
   "source": [
    "# %%writefile get_creds.py\n",
    "\n",
    "# import os\n",
    "\n",
    "# def get_redis_secret():\n",
    "#     redis_creds = {\n",
    "#             'redis_password': os.environ['REDIS_PASSWORD']\n",
    "#             }\n",
    "#     return redis_creds"
   ]
  },
  {
   "cell_type": "code",
   "execution_count": 3,
   "metadata": {},
   "outputs": [],
   "source": [
    "# get_creds_fn = project.set_function(\n",
    "#     \"get_creds.py\",\n",
    "#     name=\"get-redis-secret\",\n",
    "#     kind=\"job\",\n",
    "#     image=\"mlrun/mlrun\", # docker image to use to run function\n",
    "#     handler=\"get_redis_secret\")"
   ]
  },
  {
   "cell_type": "code",
   "execution_count": 4,
   "metadata": {},
   "outputs": [],
   "source": [
    "# get_creds_fn.set_env_from_secret('REDIS_PASSWORD', 'redis', 'redis-password')\n",
    "# redis_creds = project.run_function(\"get-redis-secret\", local=False)"
   ]
  },
  {
   "cell_type": "code",
   "execution_count": 5,
   "metadata": {},
   "outputs": [],
   "source": [
    "# # When running on community edition, redis instance is needed.\n",
    "# from mlrun.datastore.datastore_profile import DatastoreProfileRedis, register_temporary_client_datastore_profile\n",
    "\n",
    "# redis_host = os.getenv(\"REDIS_MASTER_SERVICE_HOST\", \"100.98.222.55\")\n",
    "# redis_port = int(os.getenv(\"REDIS_REPLICAS_SERVICE_PORT\", 30051))\n",
    "\n",
    "# redis_uri = f\"redis://{redis_host}:{redis_port}\"\n",
    "# redis_user = \"YOUR_USERNAME\"\n",
    "# redis_password = redis_creds.outputs['return']['redis_password']\n",
    "\n",
    "\n",
    "\n",
    "# project.set_secrets({\"REDIS_USER\": redis_user,\n",
    "#                      \"REDIS_PASSWORD\": redis_password})\n",
    "# project.save()\n",
    "# assert redis_uri and redis_password, \"Redis URI must be provided and REDIS_USER, REDIS_PASSWORD env variable must be set.\"\n",
    "\n",
    "# profile = DatastoreProfileRedis(name=\"profile-name\",\n",
    "#                                 endpoint_url=redis_uri,\n",
    "#                                 username=redis_user,\n",
    "#                                 password=redis_password)\n",
    "\n",
    "# register_temporary_client_datastore_profile(profile)\n",
    "# project.register_datastore_profile(profile)\n"
   ]
  },
  {
   "cell_type": "markdown",
   "metadata": {},
   "source": [
    "### If redis doesn't require password"
   ]
  },
  {
   "cell_type": "code",
   "execution_count": 6,
   "metadata": {
    "tags": []
   },
   "outputs": [],
   "source": [
    "import os\n",
    "# When running on community edition, redis instance is needed.\n",
    "from mlrun.datastore.datastore_profile import DatastoreProfileRedis, register_temporary_client_datastore_profile\n",
    "\n",
    "redis_host = os.getenv(\"REDIS_MASTER_SERVICE_HOST\", \"100.98.222.55\")\n",
    "redis_port = int(os.getenv(\"REDIS_REPLICAS_SERVICE_PORT\", 30051))\n",
    "\n",
    "\n",
    "redis_uri = f\"redis://{redis_host}:{redis_port}\" \n",
    "\n",
    "prefix = f's3://mlrun/{project.name}'\n",
    "\n",
    "\n",
    "assert redis_uri, \"Redis URI must be provided \"\n",
    "\n",
    "profile = DatastoreProfileRedis(name=\"profile-name\",\n",
    "                                endpoint_url=redis_uri)\n",
    "\n",
    "register_temporary_client_datastore_profile(profile)\n",
    "project.register_datastore_profile(profile)"
   ]
  },
  {
   "cell_type": "code",
   "execution_count": 7,
   "metadata": {},
   "outputs": [
    {
     "data": {
      "text/plain": [
       "'redis://10.43.31.185:6379'"
      ]
     },
     "execution_count": 7,
     "metadata": {},
     "output_type": "execute_result"
    }
   ],
   "source": [
    "redis_uri"
   ]
  },
  {
   "cell_type": "markdown",
   "metadata": {},
   "source": [
    "## Test redis connectivity"
   ]
  },
  {
   "cell_type": "code",
   "execution_count": 8,
   "metadata": {},
   "outputs": [
    {
     "name": "stdout",
     "output_type": "stream",
     "text": [
      "Connected to Redis: True\n"
     ]
    }
   ],
   "source": [
    "import redis\n",
    "\n",
    "try:\n",
    "    redis_client = redis.from_url(redis_uri) \n",
    "    ping_response = redis_client.ping()\n",
    "    print(\"Connected to Redis:\", ping_response)\n",
    "except redis.ConnectionError as e:\n",
    "    print(\"Failed to connect to Redis:\", str(e))\n",
    "except Exception as e:\n",
    "    print(\"Redis connection issue:\", str(e))"
   ]
  },
  {
   "cell_type": "code",
   "execution_count": null,
   "metadata": {},
   "outputs": [],
   "source": []
  },
  {
   "cell_type": "markdown",
   "metadata": {},
   "source": [
    "## Building the Credit Transactions Data Pipeline (Feature Set)"
   ]
  },
  {
   "cell_type": "markdown",
   "metadata": {},
   "source": [
    "The following part generates and aggregates new features from the credit transactions dataset and stores them in offline and online forms for training and real-time serving. First, define the feature set, its main entity (index), timestamp, and so on. Next, define the set of feature transformations (mappings, encoding, aggregations, custom operators, and so on). And finally, specify how or where to store the results (online and offline data stores) or use the system defaults."
   ]
  },
  {
   "cell_type": "code",
   "execution_count": 9,
   "metadata": {},
   "outputs": [
    {
     "data": {
      "text/html": [
       "<div>\n",
       "<style scoped>\n",
       "    .dataframe tbody tr th:only-of-type {\n",
       "        vertical-align: middle;\n",
       "    }\n",
       "\n",
       "    .dataframe tbody tr th {\n",
       "        vertical-align: top;\n",
       "    }\n",
       "\n",
       "    .dataframe thead th {\n",
       "        text-align: right;\n",
       "    }\n",
       "</style>\n",
       "<table border=\"1\" class=\"dataframe\">\n",
       "  <thead>\n",
       "    <tr style=\"text-align: right;\">\n",
       "      <th></th>\n",
       "      <th>step</th>\n",
       "      <th>age</th>\n",
       "      <th>gender</th>\n",
       "      <th>zipcodeOri</th>\n",
       "      <th>zipMerchant</th>\n",
       "      <th>category</th>\n",
       "      <th>amount</th>\n",
       "      <th>fraud</th>\n",
       "      <th>timestamp</th>\n",
       "      <th>source</th>\n",
       "      <th>target</th>\n",
       "      <th>device</th>\n",
       "    </tr>\n",
       "  </thead>\n",
       "  <tbody>\n",
       "    <tr>\n",
       "      <th>274633</th>\n",
       "      <td>91</td>\n",
       "      <td>5</td>\n",
       "      <td>F</td>\n",
       "      <td>28007</td>\n",
       "      <td>28007</td>\n",
       "      <td>es_transportation</td>\n",
       "      <td>26.92</td>\n",
       "      <td>0</td>\n",
       "      <td>2025-01-26 19:10:58.808322000</td>\n",
       "      <td>C1022153336</td>\n",
       "      <td>M1823072687</td>\n",
       "      <td>33832bb8607545df97632a7ab02d69c4</td>\n",
       "    </tr>\n",
       "    <tr>\n",
       "      <th>286902</th>\n",
       "      <td>94</td>\n",
       "      <td>2</td>\n",
       "      <td>M</td>\n",
       "      <td>28007</td>\n",
       "      <td>28007</td>\n",
       "      <td>es_transportation</td>\n",
       "      <td>48.22</td>\n",
       "      <td>0</td>\n",
       "      <td>2025-01-26 19:11:17.101947913</td>\n",
       "      <td>C1006176917</td>\n",
       "      <td>M348934600</td>\n",
       "      <td>fadd829c49e74ffa86c8da3be75ada53</td>\n",
       "    </tr>\n",
       "    <tr>\n",
       "      <th>416998</th>\n",
       "      <td>131</td>\n",
       "      <td>3</td>\n",
       "      <td>M</td>\n",
       "      <td>28007</td>\n",
       "      <td>28007</td>\n",
       "      <td>es_transportation</td>\n",
       "      <td>17.56</td>\n",
       "      <td>0</td>\n",
       "      <td>2025-01-26 19:11:22.209117939</td>\n",
       "      <td>C1010936270</td>\n",
       "      <td>M348934600</td>\n",
       "      <td>58d0422a50bc40c89d2b4977b2f1beea</td>\n",
       "    </tr>\n",
       "  </tbody>\n",
       "</table>\n",
       "</div>"
      ],
      "text/plain": [
       "        step age gender  zipcodeOri  zipMerchant           category  amount  \\\n",
       "274633    91   5      F       28007        28007  es_transportation   26.92   \n",
       "286902    94   2      M       28007        28007  es_transportation   48.22   \n",
       "416998   131   3      M       28007        28007  es_transportation   17.56   \n",
       "\n",
       "        fraud                     timestamp       source       target  \\\n",
       "274633      0 2025-01-26 19:10:58.808322000  C1022153336  M1823072687   \n",
       "286902      0 2025-01-26 19:11:17.101947913  C1006176917   M348934600   \n",
       "416998      0 2025-01-26 19:11:22.209117939  C1010936270   M348934600   \n",
       "\n",
       "                                  device  \n",
       "274633  33832bb8607545df97632a7ab02d69c4  \n",
       "286902  fadd829c49e74ffa86c8da3be75ada53  \n",
       "416998  58d0422a50bc40c89d2b4977b2f1beea  "
      ]
     },
     "execution_count": 9,
     "metadata": {},
     "output_type": "execute_result"
    }
   ],
   "source": [
    "import pandas as pd\n",
    "from src.date_adjust import adjust_data_timespan\n",
    "\n",
    "# Fetch the transactions dataset from the server\n",
    "transactions_data = pd.read_csv(mlrun.get_sample_path(\"data/fraud-demo-mlrun-fs-docs/data.csv\"), parse_dates=['timestamp'])\n",
    "\n",
    "# use only first 10k\n",
    "transactions_data = transactions_data.sort_values(by='source', axis=0)[:10000]\n",
    "\n",
    "# Adjust the samples timestamp for the past 2 days\n",
    "transactions_data = adjust_data_timespan(transactions_data, new_period='2d')\n",
    "\n",
    "# Sorting after adjusting timestamps\n",
    "transactions_data = transactions_data.sort_values(by='timestamp', axis=0)\n",
    "\n",
    "# Preview\n",
    "transactions_data.head(3)"
   ]
  },
  {
   "cell_type": "markdown",
   "metadata": {
    "tags": []
   },
   "source": [
    "### Defining the transactions feature set"
   ]
  },
  {
   "cell_type": "code",
   "execution_count": 10,
   "metadata": {},
   "outputs": [],
   "source": [
    "# Import MLRun's Feature Store\n",
    "import mlrun.feature_store as fstore\n",
    "from mlrun.feature_store.steps import OneHotEncoder, MapValues, DateExtractor\n",
    "from mlrun.datastore.targets import ParquetTarget, NoSqlTarget, RedisNoSqlTarget\n"
   ]
  },
  {
   "cell_type": "code",
   "execution_count": 11,
   "metadata": {},
   "outputs": [],
   "source": [
    "# Define the transactions FeatureSet\n",
    "transaction_set = fstore.FeatureSet(\"transactions\", \n",
    "                                 entities=[fstore.Entity(\"source\")], \n",
    "                                 timestamp_key='timestamp', \n",
    "                                 description=\"transactions feature set\")"
   ]
  },
  {
   "cell_type": "markdown",
   "metadata": {},
   "source": [
    "The MLRun feature set pipeline is implemented using a graph (DAG) of multiple\n",
    "connected steps, where the `.to()` operation links one step to the next in line. \n",
    "You can visually inspect the generated pipeline using `.plot()`, and test it with sample data to verify it produces the expected results using .preview()."
   ]
  },
  {
   "cell_type": "code",
   "execution_count": 12,
   "metadata": {},
   "outputs": [],
   "source": [
    "# Define and add value mapping\n",
    "main_categories = [\"es_transportation\", \"es_health\", \"es_otherservices\",\n",
    "       \"es_food\", \"es_hotelservices\", \"es_barsandrestaurants\",\n",
    "       \"es_tech\", \"es_sportsandtoys\", \"es_wellnessandbeauty\",\n",
    "       \"es_hyper\", \"es_fashion\", \"es_home\", \"es_contents\",\n",
    "       \"es_travel\", \"es_leisure\"]\n",
    "\n",
    "# One Hot Encode the newly defined mappings\n",
    "one_hot_encoder_mapping = {'category': main_categories,\n",
    "                           'gender': list(transactions_data.gender.unique())}\n",
    "\n",
    "# Define the graph steps\n",
    "transaction_set.graph\\\n",
    "    .to(DateExtractor(parts = ['hour', 'day_of_week'], timestamp_col = 'timestamp'))\\\n",
    "    .to(MapValues(mapping={'age': {'U': '0'}}, with_original_features=True))\\\n",
    "    .to(OneHotEncoder(mapping=one_hot_encoder_mapping))\n",
    "\n",
    "\n",
    "# Add aggregations for 2, 12, and 24 hour time windows\n",
    "transaction_set.add_aggregation(name='amount',\n",
    "                                column='amount',\n",
    "                                operations=['avg','sum', 'count','max'],\n",
    "                                windows=['2h', '12h', '24h'],\n",
    "                                period='1h')\n",
    "\n",
    "\n",
    "# Add the category aggregations over a 14 day window\n",
    "for category in main_categories:\n",
    "    transaction_set.add_aggregation(name=category,column=f'category_{category}',\n",
    "                                    operations=['sum'], windows=['14d'], period='1d')\n",
    "\n",
    "# Add default (offline-parquet & online-nosql) targets\n",
    "transaction_set.set_targets(targets=[ParquetTarget(name='parquet', path=os.path.join(prefix, 'transactions.parquet')),\n",
    "                                       RedisNoSqlTarget(path=redis_uri)], with_defaults=False)\n"
   ]
  },
  {
   "cell_type": "markdown",
   "metadata": {},
   "source": [
    "### Visualize and test the transactions feature set"
   ]
  },
  {
   "cell_type": "code",
   "execution_count": 13,
   "metadata": {},
   "outputs": [
    {
     "data": {
      "image/svg+xml": [
       "<?xml version=\"1.0\" encoding=\"UTF-8\" standalone=\"no\"?>\n",
       "<!DOCTYPE svg PUBLIC \"-//W3C//DTD SVG 1.1//EN\"\n",
       " \"http://www.w3.org/Graphics/SVG/1.1/DTD/svg11.dtd\">\n",
       "<!-- Generated by graphviz version 2.43.0 (0)\n",
       " -->\n",
       "<!-- Title: mlrun&#45;flow Pages: 1 -->\n",
       "<svg width=\"775pt\" height=\"98pt\"\n",
       " viewBox=\"0.00 0.00 775.05 98.00\" xmlns=\"http://www.w3.org/2000/svg\" xmlns:xlink=\"http://www.w3.org/1999/xlink\">\n",
       "<g id=\"graph0\" class=\"graph\" transform=\"scale(1 1) rotate(0) translate(4 94)\">\n",
       "<title>mlrun&#45;flow</title>\n",
       "<polygon fill=\"white\" stroke=\"transparent\" points=\"-4,4 -4,-94 771.05,-94 771.05,4 -4,4\"/>\n",
       "<!-- _start -->\n",
       "<g id=\"node1\" class=\"node\">\n",
       "<title>_start</title>\n",
       "<polygon fill=\"lightgrey\" stroke=\"black\" points=\"31.43,-27.05 33.2,-27.15 34.96,-27.3 36.69,-27.49 38.39,-27.74 40.05,-28.03 41.67,-28.36 43.23,-28.75 44.73,-29.18 46.17,-29.65 47.54,-30.16 48.84,-30.71 50.06,-31.31 51.2,-31.94 52.25,-32.61 53.22,-33.31 54.09,-34.04 54.87,-34.8 55.56,-35.59 56.15,-36.41 56.65,-37.25 57.05,-38.11 57.36,-38.99 57.58,-39.89 57.7,-40.8 57.73,-41.72 57.68,-42.65 57.54,-43.59 57.31,-44.53 57.01,-45.47 56.63,-46.41 56.18,-47.35 55.66,-48.28 55.08,-49.2 54.43,-50.11 53.72,-51.01 52.97,-51.89 52.16,-52.75 51.3,-53.59 50.41,-54.41 49.48,-55.2 48.51,-55.96 47.51,-56.69 46.48,-57.39 45.43,-58.06 44.35,-58.69 43.26,-59.29 42.15,-59.84 41.02,-60.35 39.89,-60.82 38.74,-61.25 37.58,-61.64 36.42,-61.97 35.24,-62.26 34.07,-62.51 32.89,-62.7 31.71,-62.85 30.52,-62.95 29.34,-63 28.15,-63 26.96,-62.95 25.78,-62.85 24.6,-62.7 23.42,-62.51 22.24,-62.26 21.07,-61.97 19.91,-61.64 18.75,-61.25 17.6,-60.82 16.46,-60.35 15.34,-59.84 14.23,-59.29 13.13,-58.69 12.06,-58.06 11.01,-57.39 9.98,-56.69 8.98,-55.96 8.01,-55.2 7.08,-54.41 6.18,-53.59 5.33,-52.75 4.52,-51.89 3.76,-51.01 3.06,-50.11 2.41,-49.2 1.83,-48.28 1.3,-47.35 0.85,-46.41 0.47,-45.47 0.17,-44.53 -0.05,-43.59 -0.19,-42.65 -0.25,-41.72 -0.21,-40.8 -0.09,-39.89 0.13,-38.99 0.43,-38.11 0.84,-37.25 1.34,-36.41 1.93,-35.59 2.62,-34.8 3.4,-34.04 4.27,-33.31 5.24,-32.61 6.29,-31.94 7.43,-31.31 8.65,-30.71 9.94,-30.16 11.31,-29.65 12.75,-29.18 14.26,-28.75 15.82,-28.36 17.44,-28.03 19.1,-27.74 20.79,-27.49 22.53,-27.3 24.28,-27.15 26.06,-27.05 27.85,-27 29.64,-27 31.43,-27.05\"/>\n",
       "<text text-anchor=\"middle\" x=\"28.74\" y=\"-41.3\" font-family=\"Times,serif\" font-size=\"14.00\">start</text>\n",
       "</g>\n",
       "<!-- DateExtractor -->\n",
       "<g id=\"node2\" class=\"node\">\n",
       "<title>DateExtractor</title>\n",
       "<ellipse fill=\"none\" stroke=\"black\" cx=\"153.28\" cy=\"-45\" rx=\"59.59\" ry=\"18\"/>\n",
       "<text text-anchor=\"middle\" x=\"153.28\" y=\"-41.3\" font-family=\"Times,serif\" font-size=\"14.00\">DateExtractor</text>\n",
       "</g>\n",
       "<!-- _start&#45;&gt;DateExtractor -->\n",
       "<g id=\"edge1\" class=\"edge\">\n",
       "<title>_start&#45;&gt;DateExtractor</title>\n",
       "<path fill=\"none\" stroke=\"black\" d=\"M57.24,-45C65.12,-45 74.08,-45 83.28,-45\"/>\n",
       "<polygon fill=\"black\" stroke=\"black\" points=\"83.31,-48.5 93.31,-45 83.31,-41.5 83.31,-48.5\"/>\n",
       "</g>\n",
       "<!-- MapValues -->\n",
       "<g id=\"node3\" class=\"node\">\n",
       "<title>MapValues</title>\n",
       "<ellipse fill=\"none\" stroke=\"black\" cx=\"299.77\" cy=\"-45\" rx=\"50.89\" ry=\"18\"/>\n",
       "<text text-anchor=\"middle\" x=\"299.77\" y=\"-41.3\" font-family=\"Times,serif\" font-size=\"14.00\">MapValues</text>\n",
       "</g>\n",
       "<!-- DateExtractor&#45;&gt;MapValues -->\n",
       "<g id=\"edge2\" class=\"edge\">\n",
       "<title>DateExtractor&#45;&gt;MapValues</title>\n",
       "<path fill=\"none\" stroke=\"black\" d=\"M213.47,-45C221.78,-45 230.33,-45 238.66,-45\"/>\n",
       "<polygon fill=\"black\" stroke=\"black\" points=\"238.67,-48.5 248.67,-45 238.67,-41.5 238.67,-48.5\"/>\n",
       "</g>\n",
       "<!-- OneHotEncoder -->\n",
       "<g id=\"node4\" class=\"node\">\n",
       "<title>OneHotEncoder</title>\n",
       "<ellipse fill=\"none\" stroke=\"black\" cx=\"454.06\" cy=\"-45\" rx=\"67.69\" ry=\"18\"/>\n",
       "<text text-anchor=\"middle\" x=\"454.06\" y=\"-41.3\" font-family=\"Times,serif\" font-size=\"14.00\">OneHotEncoder</text>\n",
       "</g>\n",
       "<!-- MapValues&#45;&gt;OneHotEncoder -->\n",
       "<g id=\"edge3\" class=\"edge\">\n",
       "<title>MapValues&#45;&gt;OneHotEncoder</title>\n",
       "<path fill=\"none\" stroke=\"black\" d=\"M350.64,-45C358.8,-45 367.43,-45 376.07,-45\"/>\n",
       "<polygon fill=\"black\" stroke=\"black\" points=\"376.2,-48.5 386.2,-45 376.2,-41.5 376.2,-48.5\"/>\n",
       "</g>\n",
       "<!-- Aggregates -->\n",
       "<g id=\"node5\" class=\"node\">\n",
       "<title>Aggregates</title>\n",
       "<ellipse fill=\"none\" stroke=\"black\" cx=\"608.35\" cy=\"-45\" rx=\"50.89\" ry=\"18\"/>\n",
       "<text text-anchor=\"middle\" x=\"608.35\" y=\"-41.3\" font-family=\"Times,serif\" font-size=\"14.00\">Aggregates</text>\n",
       "</g>\n",
       "<!-- OneHotEncoder&#45;&gt;Aggregates -->\n",
       "<g id=\"edge4\" class=\"edge\">\n",
       "<title>OneHotEncoder&#45;&gt;Aggregates</title>\n",
       "<path fill=\"none\" stroke=\"black\" d=\"M521.86,-45C530.38,-45 539.06,-45 547.47,-45\"/>\n",
       "<polygon fill=\"black\" stroke=\"black\" points=\"547.55,-48.5 557.55,-45 547.55,-41.5 547.55,-48.5\"/>\n",
       "</g>\n",
       "<!-- parquet/parquet -->\n",
       "<g id=\"node6\" class=\"node\">\n",
       "<title>parquet/parquet</title>\n",
       "<path fill=\"none\" stroke=\"black\" d=\"M759.55,-86.73C759.55,-88.53 746.77,-90 731.05,-90 715.32,-90 702.55,-88.53 702.55,-86.73 702.55,-86.73 702.55,-57.27 702.55,-57.27 702.55,-55.47 715.32,-54 731.05,-54 746.77,-54 759.55,-55.47 759.55,-57.27 759.55,-57.27 759.55,-86.73 759.55,-86.73\"/>\n",
       "<path fill=\"none\" stroke=\"black\" d=\"M759.55,-86.73C759.55,-84.92 746.77,-83.45 731.05,-83.45 715.32,-83.45 702.55,-84.92 702.55,-86.73\"/>\n",
       "<text text-anchor=\"middle\" x=\"731.05\" y=\"-68.3\" font-family=\"Times,serif\" font-size=\"14.00\">parquet</text>\n",
       "</g>\n",
       "<!-- Aggregates&#45;&gt;parquet/parquet -->\n",
       "<g id=\"edge5\" class=\"edge\">\n",
       "<title>Aggregates&#45;&gt;parquet/parquet</title>\n",
       "<path fill=\"none\" stroke=\"black\" d=\"M651.56,-54.44C664.87,-57.42 679.47,-60.68 692.43,-63.58\"/>\n",
       "<polygon fill=\"black\" stroke=\"black\" points=\"691.89,-67.05 702.41,-65.82 693.42,-60.22 691.89,-67.05\"/>\n",
       "</g>\n",
       "<!-- redisnosql/redisnosql -->\n",
       "<g id=\"node7\" class=\"node\">\n",
       "<title>redisnosql/redisnosql</title>\n",
       "<path fill=\"none\" stroke=\"black\" d=\"M767.05,-32.73C767.05,-34.53 750.91,-36 731.05,-36 711.18,-36 695.05,-34.53 695.05,-32.73 695.05,-32.73 695.05,-3.27 695.05,-3.27 695.05,-1.47 711.18,0 731.05,0 750.91,0 767.05,-1.47 767.05,-3.27 767.05,-3.27 767.05,-32.73 767.05,-32.73\"/>\n",
       "<path fill=\"none\" stroke=\"black\" d=\"M767.05,-32.73C767.05,-30.92 750.91,-29.45 731.05,-29.45 711.18,-29.45 695.05,-30.92 695.05,-32.73\"/>\n",
       "<text text-anchor=\"middle\" x=\"731.05\" y=\"-14.3\" font-family=\"Times,serif\" font-size=\"14.00\">redisnosql</text>\n",
       "</g>\n",
       "<!-- Aggregates&#45;&gt;redisnosql/redisnosql -->\n",
       "<g id=\"edge6\" class=\"edge\">\n",
       "<title>Aggregates&#45;&gt;redisnosql/redisnosql</title>\n",
       "<path fill=\"none\" stroke=\"black\" d=\"M651.56,-35.56C662.39,-33.13 674.07,-30.52 685.03,-28.07\"/>\n",
       "<polygon fill=\"black\" stroke=\"black\" points=\"685.86,-31.47 694.85,-25.87 684.33,-24.64 685.86,-31.47\"/>\n",
       "</g>\n",
       "</g>\n",
       "</svg>\n"
      ],
      "text/plain": [
       "<graphviz.graphs.Digraph at 0x77ae8487bd00>"
      ]
     },
     "execution_count": 13,
     "metadata": {},
     "output_type": "execute_result"
    }
   ],
   "source": [
    "# Plot the pipeline so you can see the different steps\n",
    "transaction_set.plot(rankdir=\"LR\", with_targets=True)\n"
   ]
  },
  {
   "cell_type": "code",
   "execution_count": 14,
   "metadata": {},
   "outputs": [
    {
     "data": {
      "text/html": [
       "<div>\n",
       "<style scoped>\n",
       "    .dataframe tbody tr th:only-of-type {\n",
       "        vertical-align: middle;\n",
       "    }\n",
       "\n",
       "    .dataframe tbody tr th {\n",
       "        vertical-align: top;\n",
       "    }\n",
       "\n",
       "    .dataframe thead th {\n",
       "        text-align: right;\n",
       "    }\n",
       "</style>\n",
       "<table border=\"1\" class=\"dataframe\">\n",
       "  <thead>\n",
       "    <tr style=\"text-align: right;\">\n",
       "      <th></th>\n",
       "      <th>amount_sum_2h</th>\n",
       "      <th>amount_sum_12h</th>\n",
       "      <th>amount_sum_24h</th>\n",
       "      <th>amount_count_2h</th>\n",
       "      <th>amount_count_12h</th>\n",
       "      <th>amount_count_24h</th>\n",
       "      <th>amount_max_2h</th>\n",
       "      <th>amount_max_12h</th>\n",
       "      <th>amount_max_24h</th>\n",
       "      <th>amount_avg_2h</th>\n",
       "      <th>...</th>\n",
       "      <th>category_es_contents</th>\n",
       "      <th>category_es_travel</th>\n",
       "      <th>category_es_leisure</th>\n",
       "      <th>amount</th>\n",
       "      <th>fraud</th>\n",
       "      <th>timestamp</th>\n",
       "      <th>target</th>\n",
       "      <th>device</th>\n",
       "      <th>timestamp_hour</th>\n",
       "      <th>timestamp_day_of_week</th>\n",
       "    </tr>\n",
       "    <tr>\n",
       "      <th>source</th>\n",
       "      <th></th>\n",
       "      <th></th>\n",
       "      <th></th>\n",
       "      <th></th>\n",
       "      <th></th>\n",
       "      <th></th>\n",
       "      <th></th>\n",
       "      <th></th>\n",
       "      <th></th>\n",
       "      <th></th>\n",
       "      <th></th>\n",
       "      <th></th>\n",
       "      <th></th>\n",
       "      <th></th>\n",
       "      <th></th>\n",
       "      <th></th>\n",
       "      <th></th>\n",
       "      <th></th>\n",
       "      <th></th>\n",
       "      <th></th>\n",
       "      <th></th>\n",
       "    </tr>\n",
       "  </thead>\n",
       "  <tbody>\n",
       "    <tr>\n",
       "      <th>C1022153336</th>\n",
       "      <td>26.92</td>\n",
       "      <td>26.92</td>\n",
       "      <td>26.92</td>\n",
       "      <td>1.0</td>\n",
       "      <td>1.0</td>\n",
       "      <td>1.0</td>\n",
       "      <td>26.92</td>\n",
       "      <td>26.92</td>\n",
       "      <td>26.92</td>\n",
       "      <td>26.920000</td>\n",
       "      <td>...</td>\n",
       "      <td>0</td>\n",
       "      <td>0</td>\n",
       "      <td>0</td>\n",
       "      <td>26.92</td>\n",
       "      <td>0</td>\n",
       "      <td>2025-01-26 19:10:58.808322000</td>\n",
       "      <td>M1823072687</td>\n",
       "      <td>33832bb8607545df97632a7ab02d69c4</td>\n",
       "      <td>19</td>\n",
       "      <td>6</td>\n",
       "    </tr>\n",
       "    <tr>\n",
       "      <th>C1006176917</th>\n",
       "      <td>48.22</td>\n",
       "      <td>48.22</td>\n",
       "      <td>48.22</td>\n",
       "      <td>1.0</td>\n",
       "      <td>1.0</td>\n",
       "      <td>1.0</td>\n",
       "      <td>48.22</td>\n",
       "      <td>48.22</td>\n",
       "      <td>48.22</td>\n",
       "      <td>48.220000</td>\n",
       "      <td>...</td>\n",
       "      <td>0</td>\n",
       "      <td>0</td>\n",
       "      <td>0</td>\n",
       "      <td>48.22</td>\n",
       "      <td>0</td>\n",
       "      <td>2025-01-26 19:11:17.101947913</td>\n",
       "      <td>M348934600</td>\n",
       "      <td>fadd829c49e74ffa86c8da3be75ada53</td>\n",
       "      <td>19</td>\n",
       "      <td>6</td>\n",
       "    </tr>\n",
       "    <tr>\n",
       "      <th>C1010936270</th>\n",
       "      <td>17.56</td>\n",
       "      <td>17.56</td>\n",
       "      <td>17.56</td>\n",
       "      <td>1.0</td>\n",
       "      <td>1.0</td>\n",
       "      <td>1.0</td>\n",
       "      <td>17.56</td>\n",
       "      <td>17.56</td>\n",
       "      <td>17.56</td>\n",
       "      <td>17.560000</td>\n",
       "      <td>...</td>\n",
       "      <td>0</td>\n",
       "      <td>0</td>\n",
       "      <td>0</td>\n",
       "      <td>17.56</td>\n",
       "      <td>0</td>\n",
       "      <td>2025-01-26 19:11:22.209117939</td>\n",
       "      <td>M348934600</td>\n",
       "      <td>58d0422a50bc40c89d2b4977b2f1beea</td>\n",
       "      <td>19</td>\n",
       "      <td>6</td>\n",
       "    </tr>\n",
       "    <tr>\n",
       "      <th>C1033736586</th>\n",
       "      <td>4.50</td>\n",
       "      <td>4.50</td>\n",
       "      <td>4.50</td>\n",
       "      <td>1.0</td>\n",
       "      <td>1.0</td>\n",
       "      <td>1.0</td>\n",
       "      <td>4.50</td>\n",
       "      <td>4.50</td>\n",
       "      <td>4.50</td>\n",
       "      <td>4.500000</td>\n",
       "      <td>...</td>\n",
       "      <td>0</td>\n",
       "      <td>0</td>\n",
       "      <td>0</td>\n",
       "      <td>4.50</td>\n",
       "      <td>0</td>\n",
       "      <td>2025-01-26 19:11:34.501869118</td>\n",
       "      <td>M1823072687</td>\n",
       "      <td>30b269ae55984e5584f1dd5f642ac1a3</td>\n",
       "      <td>19</td>\n",
       "      <td>6</td>\n",
       "    </tr>\n",
       "    <tr>\n",
       "      <th>C1019071188</th>\n",
       "      <td>1.83</td>\n",
       "      <td>1.83</td>\n",
       "      <td>1.83</td>\n",
       "      <td>1.0</td>\n",
       "      <td>1.0</td>\n",
       "      <td>1.0</td>\n",
       "      <td>1.83</td>\n",
       "      <td>1.83</td>\n",
       "      <td>1.83</td>\n",
       "      <td>1.830000</td>\n",
       "      <td>...</td>\n",
       "      <td>0</td>\n",
       "      <td>0</td>\n",
       "      <td>0</td>\n",
       "      <td>1.83</td>\n",
       "      <td>0</td>\n",
       "      <td>2025-01-26 19:12:08.390951001</td>\n",
       "      <td>M348934600</td>\n",
       "      <td>97bee3503a984f59aa6139b59f933c0b</td>\n",
       "      <td>19</td>\n",
       "      <td>6</td>\n",
       "    </tr>\n",
       "    <tr>\n",
       "      <th>...</th>\n",
       "      <td>...</td>\n",
       "      <td>...</td>\n",
       "      <td>...</td>\n",
       "      <td>...</td>\n",
       "      <td>...</td>\n",
       "      <td>...</td>\n",
       "      <td>...</td>\n",
       "      <td>...</td>\n",
       "      <td>...</td>\n",
       "      <td>...</td>\n",
       "      <td>...</td>\n",
       "      <td>...</td>\n",
       "      <td>...</td>\n",
       "      <td>...</td>\n",
       "      <td>...</td>\n",
       "      <td>...</td>\n",
       "      <td>...</td>\n",
       "      <td>...</td>\n",
       "      <td>...</td>\n",
       "      <td>...</td>\n",
       "      <td>...</td>\n",
       "    </tr>\n",
       "    <tr>\n",
       "      <th>C1032715879</th>\n",
       "      <td>82.91</td>\n",
       "      <td>697.94</td>\n",
       "      <td>1681.25</td>\n",
       "      <td>3.0</td>\n",
       "      <td>24.0</td>\n",
       "      <td>56.0</td>\n",
       "      <td>54.55</td>\n",
       "      <td>70.47</td>\n",
       "      <td>85.97</td>\n",
       "      <td>27.636667</td>\n",
       "      <td>...</td>\n",
       "      <td>0</td>\n",
       "      <td>0</td>\n",
       "      <td>0</td>\n",
       "      <td>26.00</td>\n",
       "      <td>0</td>\n",
       "      <td>2025-01-28 19:09:56.722175884</td>\n",
       "      <td>M348934600</td>\n",
       "      <td>dcd0943b34254126a2d79d3ac652f268</td>\n",
       "      <td>19</td>\n",
       "      <td>1</td>\n",
       "    </tr>\n",
       "    <tr>\n",
       "      <th>C1005806982</th>\n",
       "      <td>31.14</td>\n",
       "      <td>31.14</td>\n",
       "      <td>330.61</td>\n",
       "      <td>1.0</td>\n",
       "      <td>1.0</td>\n",
       "      <td>5.0</td>\n",
       "      <td>31.14</td>\n",
       "      <td>31.14</td>\n",
       "      <td>119.50</td>\n",
       "      <td>31.140000</td>\n",
       "      <td>...</td>\n",
       "      <td>0</td>\n",
       "      <td>0</td>\n",
       "      <td>0</td>\n",
       "      <td>31.14</td>\n",
       "      <td>0</td>\n",
       "      <td>2025-01-28 19:10:01.086109022</td>\n",
       "      <td>M1741626453</td>\n",
       "      <td>c186fb979a77422fa06296c3ff2813f6</td>\n",
       "      <td>19</td>\n",
       "      <td>1</td>\n",
       "    </tr>\n",
       "    <tr>\n",
       "      <th>C1018783569</th>\n",
       "      <td>283.71</td>\n",
       "      <td>1005.10</td>\n",
       "      <td>1736.71</td>\n",
       "      <td>3.0</td>\n",
       "      <td>23.0</td>\n",
       "      <td>56.0</td>\n",
       "      <td>218.48</td>\n",
       "      <td>218.48</td>\n",
       "      <td>218.48</td>\n",
       "      <td>94.570000</td>\n",
       "      <td>...</td>\n",
       "      <td>0</td>\n",
       "      <td>0</td>\n",
       "      <td>0</td>\n",
       "      <td>218.48</td>\n",
       "      <td>0</td>\n",
       "      <td>2025-01-28 19:10:28.468632602</td>\n",
       "      <td>M1053599405</td>\n",
       "      <td>73bdcf0627aa4cc5b882f397cf0d1177</td>\n",
       "      <td>19</td>\n",
       "      <td>1</td>\n",
       "    </tr>\n",
       "    <tr>\n",
       "      <th>C1014847580</th>\n",
       "      <td>118.22</td>\n",
       "      <td>935.26</td>\n",
       "      <td>2062.69</td>\n",
       "      <td>5.0</td>\n",
       "      <td>31.0</td>\n",
       "      <td>68.0</td>\n",
       "      <td>34.93</td>\n",
       "      <td>79.16</td>\n",
       "      <td>89.85</td>\n",
       "      <td>23.644000</td>\n",
       "      <td>...</td>\n",
       "      <td>0</td>\n",
       "      <td>0</td>\n",
       "      <td>0</td>\n",
       "      <td>34.93</td>\n",
       "      <td>0</td>\n",
       "      <td>2025-01-28 19:10:35.450887958</td>\n",
       "      <td>M1823072687</td>\n",
       "      <td>1b216268a9bd4937912c49d16adb5b67</td>\n",
       "      <td>19</td>\n",
       "      <td>1</td>\n",
       "    </tr>\n",
       "    <tr>\n",
       "      <th>C1023803355</th>\n",
       "      <td>189.08</td>\n",
       "      <td>1099.98</td>\n",
       "      <td>2451.98</td>\n",
       "      <td>3.0</td>\n",
       "      <td>35.0</td>\n",
       "      <td>72.0</td>\n",
       "      <td>77.76</td>\n",
       "      <td>77.76</td>\n",
       "      <td>95.71</td>\n",
       "      <td>63.026667</td>\n",
       "      <td>...</td>\n",
       "      <td>0</td>\n",
       "      <td>0</td>\n",
       "      <td>0</td>\n",
       "      <td>35.65</td>\n",
       "      <td>0</td>\n",
       "      <td>2025-01-28 19:10:58.808322000</td>\n",
       "      <td>M348934600</td>\n",
       "      <td>e2f1b14f73014143a94f7d9505638134</td>\n",
       "      <td>19</td>\n",
       "      <td>1</td>\n",
       "    </tr>\n",
       "  </tbody>\n",
       "</table>\n",
       "<p>10000 rows × 56 columns</p>\n",
       "</div>"
      ],
      "text/plain": [
       "             amount_sum_2h  amount_sum_12h  amount_sum_24h  amount_count_2h  \\\n",
       "source                                                                        \n",
       "C1022153336          26.92           26.92           26.92              1.0   \n",
       "C1006176917          48.22           48.22           48.22              1.0   \n",
       "C1010936270          17.56           17.56           17.56              1.0   \n",
       "C1033736586           4.50            4.50            4.50              1.0   \n",
       "C1019071188           1.83            1.83            1.83              1.0   \n",
       "...                    ...             ...             ...              ...   \n",
       "C1032715879          82.91          697.94         1681.25              3.0   \n",
       "C1005806982          31.14           31.14          330.61              1.0   \n",
       "C1018783569         283.71         1005.10         1736.71              3.0   \n",
       "C1014847580         118.22          935.26         2062.69              5.0   \n",
       "C1023803355         189.08         1099.98         2451.98              3.0   \n",
       "\n",
       "             amount_count_12h  amount_count_24h  amount_max_2h  \\\n",
       "source                                                           \n",
       "C1022153336               1.0               1.0          26.92   \n",
       "C1006176917               1.0               1.0          48.22   \n",
       "C1010936270               1.0               1.0          17.56   \n",
       "C1033736586               1.0               1.0           4.50   \n",
       "C1019071188               1.0               1.0           1.83   \n",
       "...                       ...               ...            ...   \n",
       "C1032715879              24.0              56.0          54.55   \n",
       "C1005806982               1.0               5.0          31.14   \n",
       "C1018783569              23.0              56.0         218.48   \n",
       "C1014847580              31.0              68.0          34.93   \n",
       "C1023803355              35.0              72.0          77.76   \n",
       "\n",
       "             amount_max_12h  amount_max_24h  amount_avg_2h  ...  \\\n",
       "source                                                      ...   \n",
       "C1022153336           26.92           26.92      26.920000  ...   \n",
       "C1006176917           48.22           48.22      48.220000  ...   \n",
       "C1010936270           17.56           17.56      17.560000  ...   \n",
       "C1033736586            4.50            4.50       4.500000  ...   \n",
       "C1019071188            1.83            1.83       1.830000  ...   \n",
       "...                     ...             ...            ...  ...   \n",
       "C1032715879           70.47           85.97      27.636667  ...   \n",
       "C1005806982           31.14          119.50      31.140000  ...   \n",
       "C1018783569          218.48          218.48      94.570000  ...   \n",
       "C1014847580           79.16           89.85      23.644000  ...   \n",
       "C1023803355           77.76           95.71      63.026667  ...   \n",
       "\n",
       "             category_es_contents  category_es_travel  category_es_leisure  \\\n",
       "source                                                                       \n",
       "C1022153336                     0                   0                    0   \n",
       "C1006176917                     0                   0                    0   \n",
       "C1010936270                     0                   0                    0   \n",
       "C1033736586                     0                   0                    0   \n",
       "C1019071188                     0                   0                    0   \n",
       "...                           ...                 ...                  ...   \n",
       "C1032715879                     0                   0                    0   \n",
       "C1005806982                     0                   0                    0   \n",
       "C1018783569                     0                   0                    0   \n",
       "C1014847580                     0                   0                    0   \n",
       "C1023803355                     0                   0                    0   \n",
       "\n",
       "             amount  fraud                     timestamp       target  \\\n",
       "source                                                                  \n",
       "C1022153336   26.92      0 2025-01-26 19:10:58.808322000  M1823072687   \n",
       "C1006176917   48.22      0 2025-01-26 19:11:17.101947913   M348934600   \n",
       "C1010936270   17.56      0 2025-01-26 19:11:22.209117939   M348934600   \n",
       "C1033736586    4.50      0 2025-01-26 19:11:34.501869118  M1823072687   \n",
       "C1019071188    1.83      0 2025-01-26 19:12:08.390951001   M348934600   \n",
       "...             ...    ...                           ...          ...   \n",
       "C1032715879   26.00      0 2025-01-28 19:09:56.722175884   M348934600   \n",
       "C1005806982   31.14      0 2025-01-28 19:10:01.086109022  M1741626453   \n",
       "C1018783569  218.48      0 2025-01-28 19:10:28.468632602  M1053599405   \n",
       "C1014847580   34.93      0 2025-01-28 19:10:35.450887958  M1823072687   \n",
       "C1023803355   35.65      0 2025-01-28 19:10:58.808322000   M348934600   \n",
       "\n",
       "                                       device  timestamp_hour  \\\n",
       "source                                                          \n",
       "C1022153336  33832bb8607545df97632a7ab02d69c4              19   \n",
       "C1006176917  fadd829c49e74ffa86c8da3be75ada53              19   \n",
       "C1010936270  58d0422a50bc40c89d2b4977b2f1beea              19   \n",
       "C1033736586  30b269ae55984e5584f1dd5f642ac1a3              19   \n",
       "C1019071188  97bee3503a984f59aa6139b59f933c0b              19   \n",
       "...                                       ...             ...   \n",
       "C1032715879  dcd0943b34254126a2d79d3ac652f268              19   \n",
       "C1005806982  c186fb979a77422fa06296c3ff2813f6              19   \n",
       "C1018783569  73bdcf0627aa4cc5b882f397cf0d1177              19   \n",
       "C1014847580  1b216268a9bd4937912c49d16adb5b67              19   \n",
       "C1023803355  e2f1b14f73014143a94f7d9505638134              19   \n",
       "\n",
       "             timestamp_day_of_week  \n",
       "source                              \n",
       "C1022153336                      6  \n",
       "C1006176917                      6  \n",
       "C1010936270                      6  \n",
       "C1033736586                      6  \n",
       "C1019071188                      6  \n",
       "...                            ...  \n",
       "C1032715879                      1  \n",
       "C1005806982                      1  \n",
       "C1018783569                      1  \n",
       "C1014847580                      1  \n",
       "C1023803355                      1  \n",
       "\n",
       "[10000 rows x 56 columns]"
      ]
     },
     "execution_count": 14,
     "metadata": {},
     "output_type": "execute_result"
    }
   ],
   "source": [
    "# Preview the resulting features from ingesting sample data (transactions_data)\n",
    "transaction_set.preview(transactions_data)"
   ]
  },
  {
   "cell_type": "markdown",
   "metadata": {},
   "source": [
    "After performing the ingestion process, you can see all of the different features that were created with the help of the UI, asshown in the image below."
   ]
  },
  {
   "cell_type": "markdown",
   "metadata": {},
   "source": [
    "![Features Catalog - fraud prevention](images/features-catalog-transaction.png)"
   ]
  },
  {
   "cell_type": "markdown",
   "metadata": {},
   "source": [
    "## Building the User Events Data Pipeline (Feature Set)"
   ]
  },
  {
   "cell_type": "markdown",
   "metadata": {},
   "source": [
    "The events data pipeline is simpler and has a single transformation for encoding the event category (using one-hot encoding). The next part demonstrates defining the\n",
    "user events feature set, adding the transformation, and testing the feature set with sample data."
   ]
  },
  {
   "cell_type": "markdown",
   "metadata": {},
   "source": [
    "### Define, visualize and test the events feature set"
   ]
  },
  {
   "cell_type": "code",
   "execution_count": 15,
   "metadata": {},
   "outputs": [
    {
     "data": {
      "text/html": [
       "<div>\n",
       "<style scoped>\n",
       "    .dataframe tbody tr th:only-of-type {\n",
       "        vertical-align: middle;\n",
       "    }\n",
       "\n",
       "    .dataframe tbody tr th {\n",
       "        vertical-align: top;\n",
       "    }\n",
       "\n",
       "    .dataframe thead th {\n",
       "        text-align: right;\n",
       "    }\n",
       "</style>\n",
       "<table border=\"1\" class=\"dataframe\">\n",
       "  <thead>\n",
       "    <tr style=\"text-align: right;\">\n",
       "      <th></th>\n",
       "      <th>source</th>\n",
       "      <th>event</th>\n",
       "      <th>timestamp</th>\n",
       "    </tr>\n",
       "  </thead>\n",
       "  <tbody>\n",
       "    <tr>\n",
       "      <th>45553</th>\n",
       "      <td>C137986193</td>\n",
       "      <td>password_change</td>\n",
       "      <td>2025-01-26 19:11:03.370238000</td>\n",
       "    </tr>\n",
       "    <tr>\n",
       "      <th>24134</th>\n",
       "      <td>C1940951230</td>\n",
       "      <td>details_change</td>\n",
       "      <td>2025-01-26 19:11:04.418420091</td>\n",
       "    </tr>\n",
       "    <tr>\n",
       "      <th>64444</th>\n",
       "      <td>C247537602</td>\n",
       "      <td>login</td>\n",
       "      <td>2025-01-26 19:11:06.073203103</td>\n",
       "    </tr>\n",
       "  </tbody>\n",
       "</table>\n",
       "</div>"
      ],
      "text/plain": [
       "            source            event                     timestamp\n",
       "45553   C137986193  password_change 2025-01-26 19:11:03.370238000\n",
       "24134  C1940951230   details_change 2025-01-26 19:11:04.418420091\n",
       "64444   C247537602            login 2025-01-26 19:11:06.073203103"
      ]
     },
     "execution_count": 15,
     "metadata": {},
     "output_type": "execute_result"
    }
   ],
   "source": [
    "# Fetch the user_events dataset from the server\n",
    "user_events_data = pd.read_csv('https://s3.wasabisys.com/iguazio/data/fraud-demo-mlrun-fs-docs/events.csv', \n",
    "                               index_col=0, quotechar=\"\\'\", parse_dates=['timestamp'])\n",
    "\n",
    "# Adjust to the last 2 days to see the latest aggregations in the online feature vectors\n",
    "user_events_data = adjust_data_timespan(user_events_data, new_period='2d')\n",
    "\n",
    "# Preview\n",
    "user_events_data.head(3)"
   ]
  },
  {
   "cell_type": "code",
   "execution_count": 16,
   "metadata": {},
   "outputs": [],
   "source": [
    "user_events_set = fstore.FeatureSet(\"events\",\n",
    "                           entities=[fstore.Entity(\"source\")],\n",
    "                           timestamp_key='timestamp', \n",
    "                           description=\"user events feature set\")"
   ]
  },
  {
   "cell_type": "code",
   "execution_count": 17,
   "metadata": {},
   "outputs": [
    {
     "data": {
      "image/svg+xml": [
       "<?xml version=\"1.0\" encoding=\"UTF-8\" standalone=\"no\"?>\n",
       "<!DOCTYPE svg PUBLIC \"-//W3C//DTD SVG 1.1//EN\"\n",
       " \"http://www.w3.org/Graphics/SVG/1.1/DTD/svg11.dtd\">\n",
       "<!-- Generated by graphviz version 2.43.0 (0)\n",
       " -->\n",
       "<!-- Title: mlrun&#45;flow Pages: 1 -->\n",
       "<svg width=\"345pt\" height=\"98pt\"\n",
       " viewBox=\"0.00 0.00 344.67 98.00\" xmlns=\"http://www.w3.org/2000/svg\" xmlns:xlink=\"http://www.w3.org/1999/xlink\">\n",
       "<g id=\"graph0\" class=\"graph\" transform=\"scale(1 1) rotate(0) translate(4 94)\">\n",
       "<title>mlrun&#45;flow</title>\n",
       "<polygon fill=\"white\" stroke=\"transparent\" points=\"-4,4 -4,-94 340.67,-94 340.67,4 -4,4\"/>\n",
       "<!-- _start -->\n",
       "<g id=\"node1\" class=\"node\">\n",
       "<title>_start</title>\n",
       "<polygon fill=\"lightgrey\" stroke=\"black\" points=\"31.43,-27.05 33.2,-27.15 34.96,-27.3 36.69,-27.49 38.39,-27.74 40.05,-28.03 41.67,-28.36 43.23,-28.75 44.73,-29.18 46.17,-29.65 47.54,-30.16 48.84,-30.71 50.06,-31.31 51.2,-31.94 52.25,-32.61 53.22,-33.31 54.09,-34.04 54.87,-34.8 55.56,-35.59 56.15,-36.41 56.65,-37.25 57.05,-38.11 57.36,-38.99 57.58,-39.89 57.7,-40.8 57.73,-41.72 57.68,-42.65 57.54,-43.59 57.31,-44.53 57.01,-45.47 56.63,-46.41 56.18,-47.35 55.66,-48.28 55.08,-49.2 54.43,-50.11 53.72,-51.01 52.97,-51.89 52.16,-52.75 51.3,-53.59 50.41,-54.41 49.48,-55.2 48.51,-55.96 47.51,-56.69 46.48,-57.39 45.43,-58.06 44.35,-58.69 43.26,-59.29 42.15,-59.84 41.02,-60.35 39.89,-60.82 38.74,-61.25 37.58,-61.64 36.42,-61.97 35.24,-62.26 34.07,-62.51 32.89,-62.7 31.71,-62.85 30.52,-62.95 29.34,-63 28.15,-63 26.96,-62.95 25.78,-62.85 24.6,-62.7 23.42,-62.51 22.24,-62.26 21.07,-61.97 19.91,-61.64 18.75,-61.25 17.6,-60.82 16.46,-60.35 15.34,-59.84 14.23,-59.29 13.13,-58.69 12.06,-58.06 11.01,-57.39 9.98,-56.69 8.98,-55.96 8.01,-55.2 7.08,-54.41 6.18,-53.59 5.33,-52.75 4.52,-51.89 3.76,-51.01 3.06,-50.11 2.41,-49.2 1.83,-48.28 1.3,-47.35 0.85,-46.41 0.47,-45.47 0.17,-44.53 -0.05,-43.59 -0.19,-42.65 -0.25,-41.72 -0.21,-40.8 -0.09,-39.89 0.13,-38.99 0.43,-38.11 0.84,-37.25 1.34,-36.41 1.93,-35.59 2.62,-34.8 3.4,-34.04 4.27,-33.31 5.24,-32.61 6.29,-31.94 7.43,-31.31 8.65,-30.71 9.94,-30.16 11.31,-29.65 12.75,-29.18 14.26,-28.75 15.82,-28.36 17.44,-28.03 19.1,-27.74 20.79,-27.49 22.53,-27.3 24.28,-27.15 26.06,-27.05 27.85,-27 29.64,-27 31.43,-27.05\"/>\n",
       "<text text-anchor=\"middle\" x=\"28.74\" y=\"-41.3\" font-family=\"Times,serif\" font-size=\"14.00\">start</text>\n",
       "</g>\n",
       "<!-- OneHotEncoder -->\n",
       "<g id=\"node2\" class=\"node\">\n",
       "<title>OneHotEncoder</title>\n",
       "<ellipse fill=\"none\" stroke=\"black\" cx=\"161.08\" cy=\"-45\" rx=\"67.69\" ry=\"18\"/>\n",
       "<text text-anchor=\"middle\" x=\"161.08\" y=\"-41.3\" font-family=\"Times,serif\" font-size=\"14.00\">OneHotEncoder</text>\n",
       "</g>\n",
       "<!-- _start&#45;&gt;OneHotEncoder -->\n",
       "<g id=\"edge1\" class=\"edge\">\n",
       "<title>_start&#45;&gt;OneHotEncoder</title>\n",
       "<path fill=\"none\" stroke=\"black\" d=\"M57.38,-45C65.18,-45 74.06,-45 83.25,-45\"/>\n",
       "<polygon fill=\"black\" stroke=\"black\" points=\"83.33,-48.5 93.33,-45 83.33,-41.5 83.33,-48.5\"/>\n",
       "</g>\n",
       "<!-- parquet/parquet -->\n",
       "<g id=\"node3\" class=\"node\">\n",
       "<title>parquet/parquet</title>\n",
       "<path fill=\"none\" stroke=\"black\" d=\"M329.17,-86.73C329.17,-88.53 316.4,-90 300.67,-90 284.95,-90 272.17,-88.53 272.17,-86.73 272.17,-86.73 272.17,-57.27 272.17,-57.27 272.17,-55.47 284.95,-54 300.67,-54 316.4,-54 329.17,-55.47 329.17,-57.27 329.17,-57.27 329.17,-86.73 329.17,-86.73\"/>\n",
       "<path fill=\"none\" stroke=\"black\" d=\"M329.17,-86.73C329.17,-84.92 316.4,-83.45 300.67,-83.45 284.95,-83.45 272.17,-84.92 272.17,-86.73\"/>\n",
       "<text text-anchor=\"middle\" x=\"300.67\" y=\"-68.3\" font-family=\"Times,serif\" font-size=\"14.00\">parquet</text>\n",
       "</g>\n",
       "<!-- OneHotEncoder&#45;&gt;parquet/parquet -->\n",
       "<g id=\"edge2\" class=\"edge\">\n",
       "<title>OneHotEncoder&#45;&gt;parquet/parquet</title>\n",
       "<path fill=\"none\" stroke=\"black\" d=\"M216.07,-55.59C231.46,-58.61 247.88,-61.84 262.06,-64.62\"/>\n",
       "<polygon fill=\"black\" stroke=\"black\" points=\"261.46,-68.07 271.95,-66.56 262.81,-61.2 261.46,-68.07\"/>\n",
       "</g>\n",
       "<!-- redisnosql/redisnosql -->\n",
       "<g id=\"node4\" class=\"node\">\n",
       "<title>redisnosql/redisnosql</title>\n",
       "<path fill=\"none\" stroke=\"black\" d=\"M336.67,-32.73C336.67,-34.53 320.54,-36 300.67,-36 280.81,-36 264.67,-34.53 264.67,-32.73 264.67,-32.73 264.67,-3.27 264.67,-3.27 264.67,-1.47 280.81,0 300.67,0 320.54,0 336.67,-1.47 336.67,-3.27 336.67,-3.27 336.67,-32.73 336.67,-32.73\"/>\n",
       "<path fill=\"none\" stroke=\"black\" d=\"M336.67,-32.73C336.67,-30.92 320.54,-29.45 300.67,-29.45 280.81,-29.45 264.67,-30.92 264.67,-32.73\"/>\n",
       "<text text-anchor=\"middle\" x=\"300.67\" y=\"-14.3\" font-family=\"Times,serif\" font-size=\"14.00\">redisnosql</text>\n",
       "</g>\n",
       "<!-- OneHotEncoder&#45;&gt;redisnosql/redisnosql -->\n",
       "<g id=\"edge3\" class=\"edge\">\n",
       "<title>OneHotEncoder&#45;&gt;redisnosql/redisnosql</title>\n",
       "<path fill=\"none\" stroke=\"black\" d=\"M216.07,-34.41C228.77,-31.91 242.18,-29.28 254.46,-26.87\"/>\n",
       "<polygon fill=\"black\" stroke=\"black\" points=\"255.32,-30.27 264.46,-24.91 253.97,-23.4 255.32,-30.27\"/>\n",
       "</g>\n",
       "</g>\n",
       "</svg>\n"
      ],
      "text/plain": [
       "<graphviz.graphs.Digraph at 0x77ae864efeb0>"
      ]
     },
     "execution_count": 17,
     "metadata": {},
     "output_type": "execute_result"
    }
   ],
   "source": [
    "# Define and add value mapping\n",
    "events_mapping = {'event': list(user_events_data.event.unique())}\n",
    "\n",
    "# One Hot Encode\n",
    "user_events_set.graph.to(OneHotEncoder(mapping=events_mapping))\n",
    "\n",
    "# Setting targets\n",
    "user_events_set.set_targets([ParquetTarget(name='parquet', path=os.path.join(prefix, 'user_events.parquet')),\n",
    "                             RedisNoSqlTarget(path=redis_uri)], with_defaults=False)\n",
    "\n",
    "# Plot the pipeline so you can see the different steps\n",
    "user_events_set.plot(rankdir=\"LR\", with_targets=True)"
   ]
  },
  {
   "cell_type": "code",
   "execution_count": 18,
   "metadata": {},
   "outputs": [
    {
     "data": {
      "text/html": [
       "<div>\n",
       "<style scoped>\n",
       "    .dataframe tbody tr th:only-of-type {\n",
       "        vertical-align: middle;\n",
       "    }\n",
       "\n",
       "    .dataframe tbody tr th {\n",
       "        vertical-align: top;\n",
       "    }\n",
       "\n",
       "    .dataframe thead th {\n",
       "        text-align: right;\n",
       "    }\n",
       "</style>\n",
       "<table border=\"1\" class=\"dataframe\">\n",
       "  <thead>\n",
       "    <tr style=\"text-align: right;\">\n",
       "      <th></th>\n",
       "      <th>event_password_change</th>\n",
       "      <th>event_details_change</th>\n",
       "      <th>event_login</th>\n",
       "      <th>timestamp</th>\n",
       "    </tr>\n",
       "    <tr>\n",
       "      <th>source</th>\n",
       "      <th></th>\n",
       "      <th></th>\n",
       "      <th></th>\n",
       "      <th></th>\n",
       "    </tr>\n",
       "  </thead>\n",
       "  <tbody>\n",
       "    <tr>\n",
       "      <th>C137986193</th>\n",
       "      <td>1</td>\n",
       "      <td>0</td>\n",
       "      <td>0</td>\n",
       "      <td>2025-01-26 19:11:03.370238000</td>\n",
       "    </tr>\n",
       "    <tr>\n",
       "      <th>C1940951230</th>\n",
       "      <td>0</td>\n",
       "      <td>1</td>\n",
       "      <td>0</td>\n",
       "      <td>2025-01-26 19:11:04.418420091</td>\n",
       "    </tr>\n",
       "    <tr>\n",
       "      <th>C247537602</th>\n",
       "      <td>0</td>\n",
       "      <td>0</td>\n",
       "      <td>1</td>\n",
       "      <td>2025-01-26 19:11:06.073203103</td>\n",
       "    </tr>\n",
       "    <tr>\n",
       "      <th>C470079617</th>\n",
       "      <td>1</td>\n",
       "      <td>0</td>\n",
       "      <td>0</td>\n",
       "      <td>2025-01-26 19:11:07.363652428</td>\n",
       "    </tr>\n",
       "    <tr>\n",
       "      <th>C1142118359</th>\n",
       "      <td>0</td>\n",
       "      <td>0</td>\n",
       "      <td>1</td>\n",
       "      <td>2025-01-26 19:11:08.153944830</td>\n",
       "    </tr>\n",
       "    <tr>\n",
       "      <th>...</th>\n",
       "      <td>...</td>\n",
       "      <td>...</td>\n",
       "      <td>...</td>\n",
       "      <td>...</td>\n",
       "    </tr>\n",
       "    <tr>\n",
       "      <th>C71938921</th>\n",
       "      <td>0</td>\n",
       "      <td>0</td>\n",
       "      <td>1</td>\n",
       "      <td>2025-01-28 19:10:53.919787776</td>\n",
       "    </tr>\n",
       "    <tr>\n",
       "      <th>C1790426542</th>\n",
       "      <td>1</td>\n",
       "      <td>0</td>\n",
       "      <td>0</td>\n",
       "      <td>2025-01-28 19:10:58.990991974</td>\n",
       "    </tr>\n",
       "    <tr>\n",
       "      <th>C662187574</th>\n",
       "      <td>0</td>\n",
       "      <td>0</td>\n",
       "      <td>1</td>\n",
       "      <td>2025-01-28 19:11:00.411646178</td>\n",
       "    </tr>\n",
       "    <tr>\n",
       "      <th>C1461183154</th>\n",
       "      <td>0</td>\n",
       "      <td>0</td>\n",
       "      <td>1</td>\n",
       "      <td>2025-01-28 19:11:01.109786428</td>\n",
       "    </tr>\n",
       "    <tr>\n",
       "      <th>C129566217</th>\n",
       "      <td>0</td>\n",
       "      <td>0</td>\n",
       "      <td>1</td>\n",
       "      <td>2025-01-28 19:11:03.370238000</td>\n",
       "    </tr>\n",
       "  </tbody>\n",
       "</table>\n",
       "<p>82092 rows × 4 columns</p>\n",
       "</div>"
      ],
      "text/plain": [
       "             event_password_change  event_details_change  event_login  \\\n",
       "source                                                                  \n",
       "C137986193                       1                     0            0   \n",
       "C1940951230                      0                     1            0   \n",
       "C247537602                       0                     0            1   \n",
       "C470079617                       1                     0            0   \n",
       "C1142118359                      0                     0            1   \n",
       "...                            ...                   ...          ...   \n",
       "C71938921                        0                     0            1   \n",
       "C1790426542                      1                     0            0   \n",
       "C662187574                       0                     0            1   \n",
       "C1461183154                      0                     0            1   \n",
       "C129566217                       0                     0            1   \n",
       "\n",
       "                                timestamp  \n",
       "source                                     \n",
       "C137986193  2025-01-26 19:11:03.370238000  \n",
       "C1940951230 2025-01-26 19:11:04.418420091  \n",
       "C247537602  2025-01-26 19:11:06.073203103  \n",
       "C470079617  2025-01-26 19:11:07.363652428  \n",
       "C1142118359 2025-01-26 19:11:08.153944830  \n",
       "...                                   ...  \n",
       "C71938921   2025-01-28 19:10:53.919787776  \n",
       "C1790426542 2025-01-28 19:10:58.990991974  \n",
       "C662187574  2025-01-28 19:11:00.411646178  \n",
       "C1461183154 2025-01-28 19:11:01.109786428  \n",
       "C129566217  2025-01-28 19:11:03.370238000  \n",
       "\n",
       "[82092 rows x 4 columns]"
      ]
     },
     "execution_count": 18,
     "metadata": {},
     "output_type": "execute_result"
    }
   ],
   "source": [
    "user_events_set.preview(user_events_data)"
   ]
  },
  {
   "cell_type": "markdown",
   "metadata": {},
   "source": [
    "## Building The Target Labels Data Pipeline (Feature Set)"
   ]
  },
  {
   "cell_type": "markdown",
   "metadata": {},
   "source": [
    "The third feature set defines how to create the target labels. Target labels are only used in training, so they are only stored in the offline store (during serving, the target value is predicted by the model). The basic pandas engine is used, since real-time processing is unnecessary, and the processing is simple and stateless."
   ]
  },
  {
   "cell_type": "markdown",
   "metadata": {},
   "source": [
    "### Define, visualize, and test the events feature set"
   ]
  },
  {
   "cell_type": "code",
   "execution_count": 19,
   "metadata": {},
   "outputs": [],
   "source": [
    "def create_labels(df):\n",
    "    labels = df[['fraud','timestamp']].copy()\n",
    "    labels = labels.rename(columns={\"fraud\": \"label\"})\n",
    "    labels['timestamp'] = labels['timestamp'].astype(\"datetime64[ms]\")\n",
    "    labels['label'] = labels['label'].astype(int)\n",
    "    return labels"
   ]
  },
  {
   "cell_type": "code",
   "execution_count": 20,
   "metadata": {},
   "outputs": [],
   "source": [
    "    prefix = f's3://mlrun/{project.name}'\n"
   ]
  },
  {
   "cell_type": "code",
   "execution_count": 21,
   "metadata": {},
   "outputs": [
    {
     "data": {
      "image/svg+xml": [
       "<?xml version=\"1.0\" encoding=\"UTF-8\" standalone=\"no\"?>\n",
       "<!DOCTYPE svg PUBLIC \"-//W3C//DTD SVG 1.1//EN\"\n",
       " \"http://www.w3.org/Graphics/SVG/1.1/DTD/svg11.dtd\">\n",
       "<!-- Generated by graphviz version 2.43.0 (0)\n",
       " -->\n",
       "<!-- Title: mlrun&#45;flow Pages: 1 -->\n",
       "<svg width=\"121pt\" height=\"188pt\"\n",
       " viewBox=\"0.00 0.00 121.09 188.00\" xmlns=\"http://www.w3.org/2000/svg\" xmlns:xlink=\"http://www.w3.org/1999/xlink\">\n",
       "<g id=\"graph0\" class=\"graph\" transform=\"scale(1 1) rotate(0) translate(4 184)\">\n",
       "<title>mlrun&#45;flow</title>\n",
       "<polygon fill=\"white\" stroke=\"transparent\" points=\"-4,4 -4,-184 117.09,-184 117.09,4 -4,4\"/>\n",
       "<!-- _start -->\n",
       "<g id=\"node1\" class=\"node\">\n",
       "<title>_start</title>\n",
       "<polygon fill=\"lightgrey\" stroke=\"black\" points=\"59.23,-144.05 61,-144.15 62.76,-144.3 64.49,-144.49 66.19,-144.74 67.85,-145.03 69.47,-145.36 71.03,-145.75 72.53,-146.18 73.97,-146.65 75.35,-147.16 76.64,-147.71 77.86,-148.31 79,-148.94 80.05,-149.61 81.02,-150.31 81.89,-151.04 82.67,-151.8 83.36,-152.59 83.95,-153.41 84.45,-154.25 84.85,-155.11 85.16,-155.99 85.38,-156.89 85.5,-157.8 85.53,-158.72 85.48,-159.65 85.34,-160.59 85.12,-161.53 84.81,-162.47 84.43,-163.41 83.98,-164.35 83.46,-165.28 82.88,-166.2 82.23,-167.11 81.53,-168.01 80.77,-168.89 79.96,-169.75 79.11,-170.59 78.21,-171.41 77.28,-172.2 76.31,-172.96 75.31,-173.69 74.28,-174.39 73.23,-175.06 72.15,-175.69 71.06,-176.29 69.95,-176.84 68.83,-177.35 67.69,-177.82 66.54,-178.25 65.38,-178.64 64.22,-178.97 63.05,-179.26 61.87,-179.51 60.69,-179.7 59.51,-179.85 58.32,-179.95 57.14,-180 55.95,-180 54.77,-179.95 53.58,-179.85 52.4,-179.7 51.22,-179.51 50.04,-179.26 48.87,-178.97 47.71,-178.64 46.55,-178.25 45.4,-177.82 44.26,-177.35 43.14,-176.84 42.03,-176.29 40.94,-175.69 39.86,-175.06 38.81,-174.39 37.78,-173.69 36.78,-172.96 35.81,-172.2 34.88,-171.41 33.98,-170.59 33.13,-169.75 32.32,-168.89 31.56,-168.01 30.86,-167.11 30.21,-166.2 29.63,-165.28 29.11,-164.35 28.65,-163.41 28.28,-162.47 27.97,-161.53 27.75,-160.59 27.61,-159.65 27.56,-158.72 27.59,-157.8 27.71,-156.89 27.93,-155.99 28.24,-155.11 28.64,-154.25 29.14,-153.41 29.73,-152.59 30.42,-151.8 31.2,-151.04 32.07,-150.31 33.04,-149.61 34.09,-148.94 35.23,-148.31 36.45,-147.71 37.74,-147.16 39.12,-146.65 40.56,-146.18 42.06,-145.75 43.62,-145.36 45.24,-145.03 46.9,-144.74 48.6,-144.49 50.33,-144.3 52.09,-144.15 53.86,-144.05 55.65,-144 57.44,-144 59.23,-144.05\"/>\n",
       "<text text-anchor=\"middle\" x=\"56.54\" y=\"-158.3\" font-family=\"Times,serif\" font-size=\"14.00\">start</text>\n",
       "</g>\n",
       "<!-- create_labels -->\n",
       "<g id=\"node2\" class=\"node\">\n",
       "<title>create_labels</title>\n",
       "<ellipse fill=\"none\" stroke=\"black\" cx=\"56.54\" cy=\"-90\" rx=\"56.59\" ry=\"18\"/>\n",
       "<text text-anchor=\"middle\" x=\"56.54\" y=\"-86.3\" font-family=\"Times,serif\" font-size=\"14.00\">create_labels</text>\n",
       "</g>\n",
       "<!-- _start&#45;&gt;create_labels -->\n",
       "<g id=\"edge1\" class=\"edge\">\n",
       "<title>_start&#45;&gt;create_labels</title>\n",
       "<path fill=\"none\" stroke=\"black\" d=\"M56.54,-143.7C56.54,-135.98 56.54,-126.71 56.54,-118.11\"/>\n",
       "<polygon fill=\"black\" stroke=\"black\" points=\"60.05,-118.1 56.54,-108.1 53.05,-118.1 60.05,-118.1\"/>\n",
       "</g>\n",
       "<!-- parquet/parquet -->\n",
       "<g id=\"node3\" class=\"node\">\n",
       "<title>parquet/parquet</title>\n",
       "<path fill=\"none\" stroke=\"black\" d=\"M85.04,-32.73C85.04,-34.53 72.27,-36 56.54,-36 40.82,-36 28.04,-34.53 28.04,-32.73 28.04,-32.73 28.04,-3.27 28.04,-3.27 28.04,-1.47 40.82,0 56.54,0 72.27,0 85.04,-1.47 85.04,-3.27 85.04,-3.27 85.04,-32.73 85.04,-32.73\"/>\n",
       "<path fill=\"none\" stroke=\"black\" d=\"M85.04,-32.73C85.04,-30.92 72.27,-29.45 56.54,-29.45 40.82,-29.45 28.04,-30.92 28.04,-32.73\"/>\n",
       "<text text-anchor=\"middle\" x=\"56.54\" y=\"-14.3\" font-family=\"Times,serif\" font-size=\"14.00\">parquet</text>\n",
       "</g>\n",
       "<!-- create_labels&#45;&gt;parquet/parquet -->\n",
       "<g id=\"edge2\" class=\"edge\">\n",
       "<title>create_labels&#45;&gt;parquet/parquet</title>\n",
       "<path fill=\"none\" stroke=\"black\" d=\"M56.54,-71.7C56.54,-63.98 56.54,-54.71 56.54,-46.11\"/>\n",
       "<polygon fill=\"black\" stroke=\"black\" points=\"60.05,-46.1 56.54,-36.1 53.05,-46.1 60.05,-46.1\"/>\n",
       "</g>\n",
       "</g>\n",
       "</svg>\n"
      ],
      "text/plain": [
       "<graphviz.graphs.Digraph at 0x77ae86da1ac0>"
      ]
     },
     "execution_count": 21,
     "metadata": {},
     "output_type": "execute_result"
    }
   ],
   "source": [
    "from mlrun.datastore import ParquetTarget\n",
    "\n",
    "# Define the \"labels\" feature set, use \"pandas\" processing engine\n",
    "labels_set = fstore.FeatureSet(\"labels\", \n",
    "                           entities=[fstore.Entity(\"source\")], \n",
    "                           timestamp_key='timestamp',\n",
    "                           description=\"training labels\",\n",
    "                           engine=\"pandas\")\n",
    "\n",
    "labels_set.graph.to(name=\"create_labels\", handler=create_labels)\n",
    "\n",
    "\n",
    "# specify only Parquet (offline) target since its not used for real-time\n",
    "target = ParquetTarget(path=os.path.join(prefix, 'labels.parquet'))\n",
    "labels_set.set_targets([target], with_defaults=False)\n",
    "\n",
    "# Visualize the feature set\n",
    "labels_set.plot(with_targets=True)"
   ]
  },
  {
   "cell_type": "code",
   "execution_count": 22,
   "metadata": {},
   "outputs": [
    {
     "data": {
      "text/html": [
       "<div>\n",
       "<style scoped>\n",
       "    .dataframe tbody tr th:only-of-type {\n",
       "        vertical-align: middle;\n",
       "    }\n",
       "\n",
       "    .dataframe tbody tr th {\n",
       "        vertical-align: top;\n",
       "    }\n",
       "\n",
       "    .dataframe thead th {\n",
       "        text-align: right;\n",
       "    }\n",
       "</style>\n",
       "<table border=\"1\" class=\"dataframe\">\n",
       "  <thead>\n",
       "    <tr style=\"text-align: right;\">\n",
       "      <th></th>\n",
       "      <th>label</th>\n",
       "      <th>timestamp</th>\n",
       "    </tr>\n",
       "    <tr>\n",
       "      <th>source</th>\n",
       "      <th></th>\n",
       "      <th></th>\n",
       "    </tr>\n",
       "  </thead>\n",
       "  <tbody>\n",
       "    <tr>\n",
       "      <th>C1022153336</th>\n",
       "      <td>0</td>\n",
       "      <td>2025-01-26 19:10:58.808</td>\n",
       "    </tr>\n",
       "    <tr>\n",
       "      <th>C1006176917</th>\n",
       "      <td>0</td>\n",
       "      <td>2025-01-26 19:11:17.101</td>\n",
       "    </tr>\n",
       "    <tr>\n",
       "      <th>C1010936270</th>\n",
       "      <td>0</td>\n",
       "      <td>2025-01-26 19:11:22.209</td>\n",
       "    </tr>\n",
       "    <tr>\n",
       "      <th>C1033736586</th>\n",
       "      <td>0</td>\n",
       "      <td>2025-01-26 19:11:34.501</td>\n",
       "    </tr>\n",
       "    <tr>\n",
       "      <th>C1019071188</th>\n",
       "      <td>0</td>\n",
       "      <td>2025-01-26 19:12:08.390</td>\n",
       "    </tr>\n",
       "    <tr>\n",
       "      <th>...</th>\n",
       "      <td>...</td>\n",
       "      <td>...</td>\n",
       "    </tr>\n",
       "    <tr>\n",
       "      <th>C1032715879</th>\n",
       "      <td>0</td>\n",
       "      <td>2025-01-28 19:09:56.722</td>\n",
       "    </tr>\n",
       "    <tr>\n",
       "      <th>C1005806982</th>\n",
       "      <td>0</td>\n",
       "      <td>2025-01-28 19:10:01.086</td>\n",
       "    </tr>\n",
       "    <tr>\n",
       "      <th>C1018783569</th>\n",
       "      <td>0</td>\n",
       "      <td>2025-01-28 19:10:28.468</td>\n",
       "    </tr>\n",
       "    <tr>\n",
       "      <th>C1014847580</th>\n",
       "      <td>0</td>\n",
       "      <td>2025-01-28 19:10:35.450</td>\n",
       "    </tr>\n",
       "    <tr>\n",
       "      <th>C1023803355</th>\n",
       "      <td>0</td>\n",
       "      <td>2025-01-28 19:10:58.808</td>\n",
       "    </tr>\n",
       "  </tbody>\n",
       "</table>\n",
       "<p>10000 rows × 2 columns</p>\n",
       "</div>"
      ],
      "text/plain": [
       "             label               timestamp\n",
       "source                                    \n",
       "C1022153336      0 2025-01-26 19:10:58.808\n",
       "C1006176917      0 2025-01-26 19:11:17.101\n",
       "C1010936270      0 2025-01-26 19:11:22.209\n",
       "C1033736586      0 2025-01-26 19:11:34.501\n",
       "C1019071188      0 2025-01-26 19:12:08.390\n",
       "...            ...                     ...\n",
       "C1032715879      0 2025-01-28 19:09:56.722\n",
       "C1005806982      0 2025-01-28 19:10:01.086\n",
       "C1018783569      0 2025-01-28 19:10:28.468\n",
       "C1014847580      0 2025-01-28 19:10:35.450\n",
       "C1023803355      0 2025-01-28 19:10:58.808\n",
       "\n",
       "[10000 rows x 2 columns]"
      ]
     },
     "execution_count": 22,
     "metadata": {},
     "output_type": "execute_result"
    }
   ],
   "source": [
    "labels_set.preview(transactions_data)"
   ]
  },
  {
   "cell_type": "markdown",
   "metadata": {},
   "source": [
    "## Ingesting Data Into the Feature Store\n",
    "\n",
    "Data must be ingested into the feature store before it can be used in training or serving. There are three ways to ingest data:\n",
    "\n",
    "1. Direct ingestion - ingest the data directly from the client/notebook (interactively) \n",
    "2. Batch/scheduled ingestion - create a service/job whithat that ingests data from the source (e.g. file, DB, ..)\n",
    "3. Real-time/Streaming ingestion - create an online service that accepts real-time events (from a stream, http, etc.) and push them into the feature store\n",
    "\n",
    "Direct and batch ingestion are achieved using the `ingest()` method, while real-time ingestion is done using the `deploy_ingestion_service()` method. Both methods are demonstrated in the following sections. The direct ingestion is great for development and testing while the real-time ingestion is mainly used in production."
   ]
  },
  {
   "cell_type": "markdown",
   "metadata": {},
   "source": [
    "### Batch data ingestion (for tests and training)\n",
    "\n",
    "To run training or test the serving you need to ingest and transform the input datasets and store the results in the feature store. The simplest way is to use the `ingest()` method and specify the feature-set and the source (Dataframe, file, etc.).\n",
    "\n",
    "You can specify the desired target if you want to overwrite the default behavior. For example, set `targets=[ParquetTarget()]` to specify that the data will only be written to parquet files and will not be written to the NoSQL DB (meaning you cannot run real-time serving).\n",
    "\n",
    "The `ingest()` method has many other args/options, see the [documentation](https://docs.mlrun.org/en/stable/data-prep/ingest-data-fs.html?highlight=ingest) for details.\n"
   ]
  },
  {
   "cell_type": "code",
   "execution_count": 23,
   "metadata": {},
   "outputs": [],
   "source": [
    "# Ingest your transactions dataset through your defined pipeline\n",
    "transactions_df = fstore.ingest(transaction_set, transactions_data, infer_options=fstore.InferOptions.default())\n",
    "\n"
   ]
  },
  {
   "cell_type": "code",
   "execution_count": 24,
   "metadata": {},
   "outputs": [],
   "source": [
    "# Ingestion of your newly created events feature set\n",
    "events_df = fstore.ingest(user_events_set, user_events_data, infer_options=fstore.InferOptions.default())\n",
    "\n",
    "# Ingest the labels feature set\n",
    "labels_df = fstore.ingest(labels_set, transactions_data, infer_options=fstore.InferOptions.default())"
   ]
  },
  {
   "cell_type": "markdown",
   "metadata": {},
   "source": [
    "### Transactions - Real-time data ingestion (for Production)\n",
    "\n",
    "When dealing with real-time aggregation, it's important to be able to update these aggregations in real-time.\n",
    "For this purpose, you create live serving functions that update the online feature store of the `transactions` \n",
    "FeatureSet and `Events` FeatureSet.\n",
    "\n",
    "Using MLRun's `serving` runtime, create a `nuclio` function loaded with your feature set's computational graph definition\n",
    "and an `HttpSource` to define the HTTP trigger.\n",
    "\n",
    "Notice that the implementation below does not require any rewrite of the pipeline logic."
   ]
  },
  {
   "cell_type": "markdown",
   "metadata": {},
   "source": [
    "### Transactions - Deploy real-time feature set ingestion pipeline"
   ]
  },
  {
   "cell_type": "code",
   "execution_count": 25,
   "metadata": {},
   "outputs": [],
   "source": [
    "kafka_uri = f\"{os.environ.get('KAFKA_SERVICE_HOST', None)}:{os.environ.get('KAFKA_SERVICE_PORT')}\""
   ]
  },
  {
   "cell_type": "code",
   "execution_count": 26,
   "metadata": {},
   "outputs": [],
   "source": [
    "# Create kafka stream and transactions push API endpoint\n",
    "transaction_stream = f'kafka://{kafka_uri}?topic=transactions'\n",
    "transaction_pusher = mlrun.datastore.get_stream_pusher(transaction_stream)"
   ]
  },
  {
   "cell_type": "code",
   "execution_count": 27,
   "metadata": {},
   "outputs": [
    {
     "name": "stdout",
     "output_type": "stream",
     "text": [
      "[nuclio] 2025-01-28 19:12:05,383 workerAllocationMode was automatically set to 'static' because explicitAckMode is enabled\n",
      "> 2025-01-28 19:12:05,384 [warning] It is recommended to use k8s secret (specify secret_name), specifying aws_access_key/aws_secret_key directly is unsafe.\n",
      "> 2025-01-28 19:12:05,384 [info] Starting remote function deploy\n",
      "2025-01-28 19:12:05  (info) Deploying function\n",
      "2025-01-28 19:12:05  (info) Building\n",
      "2025-01-28 19:12:05  (info) Staging files and preparing base images\n",
      "2025-01-28 19:12:05  (warn) Using user provided base image, runtime interpreter version is provided by the base image\n",
      "2025-01-28 19:12:05  (info) Building processor image\n",
      "2025-01-28 19:15:30  (info) Build complete\n",
      "2025-01-28 19:15:44  (info) Function deploy complete\n",
      "> 2025-01-28 19:15:46,481 [info] Model endpoint creation task completed with state succeeded\n",
      "> 2025-01-28 19:15:46,481 [info] Successfully deployed function: {\"external_invocation_urls\":[\"localhost:30784\"],\"internal_invocation_urls\":[\"nuclio-fraud-demo-jovyan-transactions-ingest.mlrun.svc.cluster.local:8080\"]}\n"
     ]
    }
   ],
   "source": [
    "# Define the source stream trigger (use v3io streams)\n",
    "# define the `key` and `time` fields (extracted from the Json message).\n",
    "source = mlrun.datastore.sources.KafkaSource(name=\"kakfa-source\", brokers=kafka_uri, topics=\"transactions\")\n",
    "\n",
    "# Deploy the transactions feature set's ingestion service over a real-time (Nuclio) serverless function\n",
    "# you can use the run_config parameter to pass function/service specific configuration\n",
    "transaction_set_endpoint = transaction_set.deploy_ingestion_service(source=source)"
   ]
  },
  {
   "cell_type": "markdown",
   "metadata": {},
   "source": [
    "### Transactions - Test the feature set HTTP endpoint"
   ]
  },
  {
   "cell_type": "markdown",
   "metadata": {},
   "source": [
    "By defining your `transactions` feature set you can now use MLRun and Storey to deploy it as a live endpoint, ready to ingest new data!\n",
    "\n",
    "Using MLRun's `serving` runtime, create a nuclio function loaded with your feature set's computational graph definition \n",
    "and an `HttpSource` to define the HTTP trigger."
   ]
  },
  {
   "cell_type": "code",
   "execution_count": 28,
   "metadata": {},
   "outputs": [
    {
     "data": {
      "text/plain": [
       "{'step': 114,\n",
       " 'age': '3',\n",
       " 'gender': 'F',\n",
       " 'zipcodeOri': 28007,\n",
       " 'zipMerchant': 28007,\n",
       " 'category': 'es_transportation',\n",
       " 'amount': 24.78,\n",
       " 'fraud': 0,\n",
       " 'timestamp': '2025-01-28 19:15:46.514125',\n",
       " 'source': 'C1008918174',\n",
       " 'target': 'M1823072687',\n",
       " 'device': 'cb4b395900254d879e246d44875d6e37'}"
      ]
     },
     "execution_count": 28,
     "metadata": {},
     "output_type": "execute_result"
    }
   ],
   "source": [
    "import requests\n",
    "import json\n",
    "\n",
    "# Select a sample from the dataset and serialize it to JSON\n",
    "transaction_sample = json.loads(transactions_data.sample(1).to_json(orient='records'))[0]\n",
    "transaction_sample['timestamp'] = str(pd.Timestamp.now())\n",
    "transaction_sample"
   ]
  },
  {
   "cell_type": "code",
   "execution_count": 29,
   "metadata": {},
   "outputs": [
    {
     "data": {
      "text/plain": [
       "'http://nuclio-fraud-demo-jovyan-transactions-ingest.mlrun.svc.cluster.local:8080'"
      ]
     },
     "execution_count": 29,
     "metadata": {},
     "output_type": "execute_result"
    }
   ],
   "source": [
    "# The internal url: can be accessed within the cluster\n",
    "transaction_set_endpoint[1].get_url()"
   ]
  },
  {
   "cell_type": "code",
   "execution_count": 30,
   "metadata": {},
   "outputs": [
    {
     "data": {
      "text/plain": [
       "'http://localhost:30784'"
      ]
     },
     "execution_count": 30,
     "metadata": {},
     "output_type": "execute_result"
    }
   ],
   "source": [
    "# endpoint for access out of cluster, but from same host.\n",
    "transaction_set_endpoint[0]"
   ]
  },
  {
   "cell_type": "markdown",
   "metadata": {},
   "source": [
    "##### transaction_set_endpoint[0] uses localhost. Should change to external IP and nodeport (the port shown above) e.g. `http://100.99.222.56:31774`"
   ]
  },
  {
   "cell_type": "code",
   "execution_count": 31,
   "metadata": {},
   "outputs": [
    {
     "data": {
      "text/plain": [
       "'{\"id\": \"8a9d507d-7b3f-4588-be17-37f88e88bf86\"}'"
      ]
     },
     "execution_count": 31,
     "metadata": {},
     "output_type": "execute_result"
    }
   ],
   "source": [
    "# Post the sample to the ingestion endpoint. Using the internal url\n",
    "requests.post(transaction_set_endpoint[1].get_url(), json=transaction_sample).text"
   ]
  },
  {
   "cell_type": "markdown",
   "metadata": {},
   "source": [
    "### User events - deploy the feature set live endpoint\n",
    "Deploy the events feature set's ingestion service using the feature set and all the previously defined resources."
   ]
  },
  {
   "cell_type": "code",
   "execution_count": 32,
   "metadata": {},
   "outputs": [],
   "source": [
    "# Create kafka stream and transactions push API endpoint\n",
    "events_stream = f'kafka://{kafka_uri}?topic=events'\n",
    "\n",
    "    \n",
    "events_pusher = mlrun.datastore.get_stream_pusher(events_stream)"
   ]
  },
  {
   "cell_type": "code",
   "execution_count": 33,
   "metadata": {},
   "outputs": [
    {
     "name": "stdout",
     "output_type": "stream",
     "text": [
      "[nuclio] 2025-01-28 19:15:46,658 workerAllocationMode was automatically set to 'static' because explicitAckMode is enabled\n",
      "> 2025-01-28 19:15:46,659 [warning] It is recommended to use k8s secret (specify secret_name), specifying aws_access_key/aws_secret_key directly is unsafe.\n",
      "> 2025-01-28 19:15:46,660 [info] Starting remote function deploy\n",
      "2025-01-28 19:15:46  (info) Deploying function\n",
      "2025-01-28 19:15:46  (info) Building\n",
      "2025-01-28 19:15:46  (info) Staging files and preparing base images\n",
      "2025-01-28 19:15:46  (warn) Using user provided base image, runtime interpreter version is provided by the base image\n",
      "2025-01-28 19:15:46  (info) Building processor image\n",
      "2025-01-28 19:19:11  (info) Build complete\n",
      "2025-01-28 19:19:25  (info) Function deploy complete\n",
      "> 2025-01-28 19:19:29,241 [info] Model endpoint creation task completed with state succeeded\n",
      "> 2025-01-28 19:19:29,241 [info] Successfully deployed function: {\"external_invocation_urls\":[\"localhost:32164\"],\"internal_invocation_urls\":[\"nuclio-fraud-demo-jovyan-events-ingest.mlrun.svc.cluster.local:8080\"]}\n"
     ]
    }
   ],
   "source": [
    "# Define the source stream trigger (use v3io streams)\n",
    "# define the `key` and `time` fields (extracted from the Json message).\n",
    "source = mlrun.datastore.sources.KafkaSource(name=\"kakfa-source\", brokers=kafka_uri, topics=\"events\")\n",
    "\n",
    "# Deploy the transactions feature set's ingestion service over a real-time (Nuclio) serverless function\n",
    "# you can use the run_config parameter to pass function/service specific configuration\n",
    "events_set_endpoint = user_events_set.deploy_ingestion_service(source=source)"
   ]
  },
  {
   "cell_type": "markdown",
   "metadata": {},
   "source": [
    "### User Events - Test the feature set HTTP endpoint"
   ]
  },
  {
   "cell_type": "code",
   "execution_count": 34,
   "metadata": {},
   "outputs": [
    {
     "data": {
      "text/plain": [
       "{'source': 'C1496334304',\n",
       " 'event': 'password_change',\n",
       " 'timestamp': '2025-01-28 19:19:29.279325'}"
      ]
     },
     "execution_count": 34,
     "metadata": {},
     "output_type": "execute_result"
    }
   ],
   "source": [
    "# Select a sample from the events dataset and serialize it to JSON\n",
    "user_events_sample = json.loads(user_events_data.sample(1).to_json(orient='records'))[0]\n",
    "user_events_sample['timestamp'] = str(pd.Timestamp.now())\n",
    "user_events_sample"
   ]
  },
  {
   "cell_type": "code",
   "execution_count": 35,
   "metadata": {},
   "outputs": [
    {
     "data": {
      "text/plain": [
       "'http://nuclio-fraud-demo-jovyan-events-ingest.mlrun.svc.cluster.local:8080'"
      ]
     },
     "execution_count": 35,
     "metadata": {},
     "output_type": "execute_result"
    }
   ],
   "source": [
    "events_set_endpoint[1].get_url()"
   ]
  },
  {
   "cell_type": "code",
   "execution_count": 36,
   "metadata": {},
   "outputs": [
    {
     "data": {
      "text/plain": [
       "'http://localhost:32164'"
      ]
     },
     "execution_count": 36,
     "metadata": {},
     "output_type": "execute_result"
    }
   ],
   "source": [
    "events_set_endpoint[0]"
   ]
  },
  {
   "cell_type": "code",
   "execution_count": 37,
   "metadata": {},
   "outputs": [
    {
     "data": {
      "text/plain": [
       "'{\"id\": \"d909a07f-3650-4dee-b879-ad39f9d8aef3\"}'"
      ]
     },
     "execution_count": 37,
     "metadata": {},
     "output_type": "execute_result"
    }
   ],
   "source": [
    "# Post the sample to the ingestion endpoint\n",
    "requests.post(events_set_endpoint[1].get_url(), json=user_events_sample).text"
   ]
  },
  {
   "cell_type": "markdown",
   "metadata": {},
   "source": [
    "## Done!\n",
    "\n",
    "You've completed the third part - the data-ingestion with the feature store.\n",
    "Proceed to [Part 4](04-train-test-pipeline.ipynb) to learn how to train an ML model using the feature store data."
   ]
  }
 ],
 "metadata": {
  "kernelspec": {
   "display_name": "Python 3 (ipykernel)",
   "language": "python",
   "name": "python3"
  },
  "language_info": {
   "codemirror_mode": {
    "name": "ipython",
    "version": 3
   },
   "file_extension": ".py",
   "mimetype": "text/x-python",
   "name": "python",
   "nbconvert_exporter": "python",
   "pygments_lexer": "ipython3",
   "version": "3.9.13"
  },
  "toc-showtags": false
 },
 "nbformat": 4,
 "nbformat_minor": 4
}
